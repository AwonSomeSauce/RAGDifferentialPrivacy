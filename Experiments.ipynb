{
 "cells": [
  {
   "cell_type": "markdown",
   "id": "613413bc",
   "metadata": {},
   "source": [
    "# Load necessary libraries"
   ]
  },
  {
   "cell_type": "code",
   "execution_count": 1,
   "id": "afb79f81",
   "metadata": {},
   "outputs": [],
   "source": [
    "import json\n",
    "import re\n",
    "import numpy as np\n",
    "import pandas as pd\n",
    "import scipy.spatial.distance as sp_dist\n",
    "import matplotlib.pyplot as plt\n",
    "from tqdm import tqdm\n",
    "from collections import Counter, defaultdict\n",
    "from spacy.lang.en import English\n",
    "from scipy.special import softmax\n",
    "from mechanisms.detectors.presidio_detector import PresidioDetector"
   ]
  },
  {
   "cell_type": "markdown",
   "id": "cd4ecb6d",
   "metadata": {},
   "source": [
    "# Define parameters"
   ]
  },
  {
   "cell_type": "code",
   "execution_count": 2,
   "id": "be7c18ba",
   "metadata": {},
   "outputs": [],
   "source": [
    "TAB_FILE_PATH = \"echr_train.json\"\n",
    "WORD_EMBEDDING_PATH = \"glove.840B.300d.txt\"\n",
    "TOP_K = 20\n",
    "EPSILON = 1\n",
    "P = 2"
   ]
  },
  {
   "cell_type": "markdown",
   "id": "e028b289",
   "metadata": {},
   "source": [
    "# Load dataset"
   ]
  },
  {
   "cell_type": "code",
   "execution_count": 3,
   "id": "bf34e9b3",
   "metadata": {},
   "outputs": [],
   "source": [
    "def normalize_distances(distances):\n",
    "    \"\"\"Normalize the given distances\"\"\"\n",
    "    distance_range = max(distances) - min(distances)\n",
    "    # Check if distance_range is zero (i.e., all distances are the same)\n",
    "    if distance_range == 0:\n",
    "        # If so, return an array of zeros (or some other default value)\n",
    "        return [0 for _ in distances]\n",
    "    min_distance = min(distances)\n",
    "    return [-(dist - min_distance) / distance_range for dist in distances]"
   ]
  },
  {
   "cell_type": "code",
   "execution_count": 4,
   "id": "bec78adb",
   "metadata": {},
   "outputs": [],
   "source": [
    "def has_header(file):\n",
    "    \"\"\"Check if the embeddings file has a header\"\"\"\n",
    "    return len(file.readline().split()) == 2"
   ]
  },
  {
   "cell_type": "code",
   "execution_count": 5,
   "id": "95e005e0",
   "metadata": {},
   "outputs": [],
   "source": [
    "def read_json_file(file_path):\n",
    "    \"\"\"Read a JSON file and return the data\"\"\"\n",
    "    with open(file_path, \"r\", encoding=\"utf-8\") as file:\n",
    "        return json.load(file)"
   ]
  },
  {
   "cell_type": "code",
   "execution_count": 6,
   "id": "12143c99",
   "metadata": {},
   "outputs": [],
   "source": [
    "def extract_text_values(data):\n",
    "    \"\"\"Extract 'text' values from data\"\"\"\n",
    "    return [item[\"text\"] for item in data if \"text\" in item]"
   ]
  },
  {
   "cell_type": "code",
   "execution_count": 7,
   "id": "f419de0a",
   "metadata": {},
   "outputs": [],
   "source": [
    "def build_vocab_from_dataset(df):\n",
    "    \"\"\"Build vocabulary from dataset\"\"\"\n",
    "    tokenizer = English()\n",
    "    vocab = Counter()\n",
    "    for text in df[\"sentence\"]:\n",
    "        tokenized_text = [\n",
    "            token.text\n",
    "            for token in tokenizer(text)\n",
    "            if (token.is_alpha or token.is_digit)\n",
    "        ]\n",
    "        vocab.update(tokenized_text)\n",
    "    return vocab"
   ]
  },
  {
   "cell_type": "code",
   "execution_count": 8,
   "id": "75ba5d0d",
   "metadata": {},
   "outputs": [],
   "source": [
    "def parse_embedding_row(row):\n",
    "    \"\"\"Parse a row in the general_embeddings file\"\"\"\n",
    "    content = row.rstrip().split(\" \")\n",
    "    return content[0], [float(i) for i in content[1:]]"
   ]
  },
  {
   "cell_type": "code",
   "execution_count": 9,
   "id": "eeadd6fe",
   "metadata": {},
   "outputs": [],
   "source": [
    "def process_word_embedding(\n",
    "    word,\n",
    "    embedding,\n",
    "    vocab,\n",
    "    word_to_id,\n",
    "    general_word_embeddings,\n",
    "):\n",
    "    \"\"\"Process a single word embedding\"\"\"\n",
    "    if word in vocab and word not in word_to_id and not re.match(r\"^\\d+$\", word):\n",
    "        word_to_id[word] = len(general_word_embeddings)\n",
    "        general_word_embeddings.append(embedding)"
   ]
  },
  {
   "cell_type": "code",
   "execution_count": 10,
   "id": "0dc7e049",
   "metadata": {},
   "outputs": [],
   "source": [
    "def process_word_embeddings(vocab):\n",
    "    \"\"\"Process word general_embeddings and return arrays and dictionaries for words in the vocabulary\"\"\"\n",
    "    word_to_id = {}\n",
    "    general_word_embeddings = []\n",
    "    num_lines = sum(1 for _ in open(WORD_EMBEDDING_PATH, encoding=\"utf-8\"))\n",
    "\n",
    "    with open(WORD_EMBEDDING_PATH, encoding=\"utf-8\") as file:\n",
    "        if not has_header(file):\n",
    "            file.seek(0)\n",
    "        num_lines = sum(1 for _ in file)\n",
    "        file.seek(0)\n",
    "\n",
    "        for row in tqdm(file, total=num_lines - 1):\n",
    "            word, embedding = parse_embedding_row(row)\n",
    "            process_word_embedding(\n",
    "                word,\n",
    "                embedding,\n",
    "                vocab,\n",
    "                word_to_id,\n",
    "                general_word_embeddings,\n",
    "            )\n",
    "\n",
    "    return (np.asarray(general_word_embeddings), word_to_id)"
   ]
  },
  {
   "cell_type": "code",
   "execution_count": 11,
   "id": "7465df16",
   "metadata": {},
   "outputs": [
    {
     "name": "stderr",
     "output_type": "stream",
     "text": [
      "2196017it [00:54, 40650.87it/s]                                                 \n"
     ]
    }
   ],
   "source": [
    "detector = PresidioDetector()\n",
    "data = read_json_file(TAB_FILE_PATH)\n",
    "text_values = extract_text_values(data)\n",
    "tab_df = pd.DataFrame(text_values, columns=[\"sentence\"])\n",
    "vocab = build_vocab_from_dataset(tab_df)\n",
    "words = [key for key, _ in vocab.most_common()]\n",
    "sensitive_words = detector.detect(vocab)\n",
    "processed_data = process_word_embeddings(vocab)\n",
    "(general_embeddings, word_to_id) = processed_data\n",
    "id_to_word = {v: k for k, v in word_to_id.items()}"
   ]
  },
  {
   "cell_type": "markdown",
   "id": "9d7d016c",
   "metadata": {},
   "source": [
    "# Analysis"
   ]
  },
  {
   "cell_type": "code",
   "execution_count": 12,
   "id": "1c3ccd6e",
   "metadata": {},
   "outputs": [
    {
     "name": "stdout",
     "output_type": "stream",
     "text": [
      "[ 1.2216e-01  2.7970e-01  1.8672e-01  1.0573e-01 -4.2233e-02 -6.0927e-01\n",
      "  6.7466e-01 -2.6028e-01  6.8514e-02  1.8293e+00 -8.2946e-01  2.1600e-01\n",
      "  1.7139e-02  2.9856e-01  4.5916e-01  4.1449e-01 -1.2215e-01  2.7371e-01\n",
      "  6.6174e-01  2.0479e-01  8.1152e-01  7.1084e-01 -2.2744e-01  2.5041e-02\n",
      " -3.8991e-01 -4.8706e-01  2.4147e-01 -6.7888e-01 -3.6895e-02  4.9789e-01\n",
      " -2.6198e-01  1.9797e-01 -1.2565e-01 -6.2551e-02  4.8121e-01  7.5438e-02\n",
      "  1.8518e-01 -5.6226e-01  1.1511e-01 -2.3666e-02  1.3574e-01 -8.6566e-02\n",
      " -5.3859e-02  7.5830e-02 -1.6342e-01 -2.8149e-01  1.1708e-01 -6.2137e-01\n",
      " -2.0770e-01 -2.2252e-01  1.2375e-01  4.8703e-01 -2.2987e-02 -5.5000e-01\n",
      "  3.5051e-01 -7.8361e-01  4.3651e-02 -4.7431e-01  8.3053e-01 -1.2642e-01\n",
      " -6.8961e-02  3.1709e-01  5.8703e-01  2.7367e-01 -7.0615e-01  4.7108e-01\n",
      "  5.2865e-01  2.9753e-01  2.8927e-01 -5.1843e-01 -4.9704e-01  2.0183e-01\n",
      "  2.2417e-01  1.0386e-01  4.1394e-01  5.3294e-04 -2.3545e-01  1.2492e-01\n",
      "  3.8002e-01 -1.0052e-01  2.4498e-01 -1.7738e-01  3.8552e-01  1.5690e-01\n",
      "  3.9360e-01 -1.3617e-01 -7.9907e-01 -1.1227e-01  2.2862e-01  4.9332e-01\n",
      " -8.4440e-02  3.9551e-01  1.7743e-01  7.7304e-01  2.6115e-01 -3.3553e-01\n",
      " -2.7239e-01  1.3562e-01 -1.3556e-01  5.2031e-01  5.1677e-03 -4.1447e-01\n",
      " -5.6942e-01 -8.5691e-02  1.0777e-01  3.6539e-01 -2.5776e-03 -5.1918e-01\n",
      "  1.3734e-01  1.1528e-03  3.1250e-01 -6.8618e-01 -8.2465e-01  2.9226e-01\n",
      " -4.8222e-01  3.6835e-02  1.8950e-01  7.1724e-01 -5.8570e-01 -1.3874e-01\n",
      "  2.5336e-01  5.6651e-02  1.0460e+00 -9.8430e-01  1.9236e-01  4.1637e-01\n",
      "  9.9617e-01 -1.3555e-01  2.3502e-01 -4.4234e-03 -6.2555e-02  3.2611e-01\n",
      " -3.5592e-01  6.1281e-02 -3.3767e-01  1.0660e-01 -1.3432e-01  2.8734e-01\n",
      " -5.2086e-01 -1.1389e-01  3.3221e-01  1.1211e-01  4.2255e-01 -1.3610e-01\n",
      " -1.0792e+00 -2.6964e-02 -6.6093e-01  1.1133e-01  4.3989e-01 -2.6574e-01\n",
      " -3.3266e-02  5.4014e-01  4.6777e-02 -3.8579e-01  3.3416e-01  1.4702e-01\n",
      " -8.9008e-02  1.2361e-01  4.9022e-01 -3.9097e-02  5.5730e-01  8.0024e-02\n",
      " -1.0880e-01  3.2766e-01 -7.8572e-01 -5.8819e-01 -1.1732e-01  2.6200e-01\n",
      " -8.5257e-01  3.8146e-01 -7.2721e-01 -1.3341e-01 -4.7631e-01  2.9356e-01\n",
      " -1.7418e-01  2.7514e-01  2.3984e-01 -3.6117e-01  2.6792e-01  5.2115e-02\n",
      "  2.3258e-01  1.3222e-01 -1.5259e-01 -7.8097e-03 -2.0042e-01 -1.2920e-01\n",
      "  1.9981e-01 -2.1900e-01 -2.0503e-01 -1.1719e-01 -9.0062e-03  8.9885e-02\n",
      "  9.9220e-01 -3.1827e-01 -1.6901e-01  3.5939e-01 -3.8335e-01 -3.0669e-01\n",
      "  4.9456e-02 -3.3626e-01  3.2277e-01  1.9951e-01  3.0586e-01  3.0483e-01\n",
      "  9.2338e-01  1.9620e-01  2.8598e-01  2.0560e-01  4.6172e-03 -2.8352e-01\n",
      "  8.0086e-02 -5.1113e-01  3.1058e-01 -2.4185e-02 -3.8593e-02  2.5430e-01\n",
      "  9.1731e-02  1.4138e-01  2.4132e-01  6.1930e-01  3.2957e-01 -1.9505e-01\n",
      "  2.6515e-01 -7.9604e-01  6.3362e-02  1.7018e-01  5.4636e-01 -6.0330e-01\n",
      " -4.1625e-01  4.7715e-01  1.2769e-01  9.4473e-01 -2.8321e-01 -4.3135e-01\n",
      "  1.6452e-01  1.7790e-01 -6.8597e-01 -5.0757e-02  3.3625e-01 -2.8170e-01\n",
      " -4.1598e-01  6.4579e-01 -2.7720e-01 -5.2683e-01  2.7098e-01 -5.0046e-01\n",
      "  4.2367e-01 -2.8986e-01 -1.9525e-01  1.4858e-01  5.2737e-02  4.5680e-02\n",
      "  9.8707e-01 -8.2310e-01  9.8567e-02 -1.2643e-02 -4.8242e-02 -1.5190e-02\n",
      " -1.5959e-01 -2.2017e-01  3.0909e-01  5.0451e-03  3.7069e-01  8.4776e-01\n",
      " -4.0305e-01 -2.7946e-01  2.9355e-01  3.2200e-01 -4.6516e-01 -2.5126e-01\n",
      " -1.6120e-01 -2.1482e-01  4.5794e-01  1.6368e-01  1.4631e-02  2.2466e-01\n",
      "  6.5740e-01  6.6845e-01  1.8913e-01  5.9370e-02  2.4655e-01  3.5601e-01\n",
      "  1.9193e-01  1.3817e-01  3.6843e-01  4.9456e-02  1.2356e-02 -3.1266e-02\n",
      " -1.7977e-01  1.0117e-01 -1.1191e-01  6.0251e-01  2.5439e-02 -2.4463e-01\n",
      "  4.1919e-01  4.0374e-01  3.5190e-01 -2.7380e-01  2.5911e-01  3.7463e-02]\n"
     ]
    }
   ],
   "source": [
    "print(general_embeddings[word_to_id[\"Denmark\"]]) # get GloVe embedding of a word"
   ]
  },
  {
   "cell_type": "code",
   "execution_count": 13,
   "id": "8b00b4c9",
   "metadata": {},
   "outputs": [
    {
     "name": "stdout",
     "output_type": "stream",
     "text": [
      "[4.32847811]\n"
     ]
    }
   ],
   "source": [
    "distance = sp_dist.cdist(\n",
    "    general_embeddings[word_to_id[\"Denmark\"]].reshape(1, -1),\n",
    "    general_embeddings[word_to_id[\"Norway\"]].reshape(1, -1),\n",
    "    metric=\"minkowski\",\n",
    "    p=P,\n",
    ")[0]\n",
    "\n",
    "print(distance) # get distance between Denmark and Norway"
   ]
  },
  {
   "cell_type": "markdown",
   "id": "ba5dccd1",
   "metadata": {},
   "source": [
    "# Calculate sensitivity"
   ]
  },
  {
   "cell_type": "code",
   "execution_count": 14,
   "id": "8b9b621c",
   "metadata": {},
   "outputs": [],
   "source": [
    "max_distance_dict = defaultdict(float)\n",
    "\n",
    "for word in sensitive_words:\n",
    "    if word in word_to_id and word not in max_distance_dict:\n",
    "        similar_indices = sp_dist.cdist(\n",
    "            general_embeddings[word_to_id[word]].reshape(1, -1),\n",
    "            general_embeddings,\n",
    "            metric=\"minkowski\",\n",
    "            p=P,\n",
    "        )[0].argsort()[:TOP_K]\n",
    "        max_distance_index = similar_indices[-1]\n",
    "        max_distance = sp_dist.cdist(\n",
    "            general_embeddings[word_to_id[word]].reshape(1, -1),\n",
    "            general_embeddings[max_distance_index].reshape(1, -1),\n",
    "            metric=\"minkowski\",\n",
    "            p=P,\n",
    "        )\n",
    "        max_distance_dict[word] = max_distance  "
   ]
  },
  {
   "cell_type": "code",
   "execution_count": 15,
   "id": "757b2c13",
   "metadata": {},
   "outputs": [],
   "source": [
    "max_word, sensitivity = max(max_distance_dict.items(), key=lambda item: item[1])"
   ]
  },
  {
   "cell_type": "code",
   "execution_count": 16,
   "id": "b9256578",
   "metadata": {},
   "outputs": [
    {
     "name": "stdout",
     "output_type": "stream",
     "text": [
      "materiae\n",
      "[[12.02772707]]\n"
     ]
    }
   ],
   "source": [
    "print(max_word)\n",
    "print(sensitivity)"
   ]
  },
  {
   "cell_type": "code",
   "execution_count": 17,
   "id": "d1adc6ed",
   "metadata": {},
   "outputs": [
    {
     "name": "stdout",
     "output_type": "stream",
     "text": [
      "sceptical\n"
     ]
    }
   ],
   "source": [
    "# find substitute word for 'Denmark' based on exponential mechanism\n",
    "word = \"Denmark\"\n",
    "distances = sp_dist.cdist(\n",
    "    general_embeddings[word_to_id[word]].reshape(1, -1),\n",
    "    general_embeddings,\n",
    "    metric=\"minkowski\",\n",
    "    p=P,\n",
    ")[0]\n",
    "sim_matrix = -distances\n",
    "prob_matrix = softmax(1 * sim_matrix / (2 * sensitivity))[0]\n",
    "substitute_idx = np.random.choice(len(prob_matrix), 1, p=prob_matrix)\n",
    "print(id_to_word[substitute_idx[0]])"
   ]
  },
  {
   "cell_type": "code",
   "execution_count": 18,
   "id": "14522b04",
   "metadata": {},
   "outputs": [
    {
     "data": {
      "text/plain": [
       "5.618759557284633e-05"
      ]
     },
     "execution_count": 18,
     "metadata": {},
     "output_type": "execute_result"
    }
   ],
   "source": [
    "prob_matrix[word_to_id[\"Norway\"]] # Check the probability of 'Norway' being chosen as a replacement word for 'Denmark' "
   ]
  },
  {
   "cell_type": "code",
   "execution_count": 19,
   "id": "ecb8cf78",
   "metadata": {},
   "outputs": [
    {
     "data": {
      "image/png": "[encoded data removed]",
      "text/plain": [
       "<Figure size 1000x600 with 1 Axes>"
      ]
     },
     "metadata": {},
     "output_type": "display_data"
    }
   ],
   "source": [
    "# Plotting the probability distribution for Denmark\n",
    "plt.figure(figsize=(10, 6))  # Set the figure size for better readability\n",
    "plt.hist(prob_matrix, bins=50, alpha=0.75)  # Adjust the number of bins as needed\n",
    "plt.title(f\"Probability Distribution for {word}\")\n",
    "plt.xlabel('Probability')\n",
    "plt.ylabel('Frequency')\n",
    "plt.grid(True)\n",
    "plt.show()"
   ]
  },
  {
   "cell_type": "code",
   "execution_count": null,
   "id": "ca28063a",
   "metadata": {},
   "outputs": [],
   "source": []
  }
 ],
 "metadata": {
  "kernelspec": {
   "display_name": "Python 3 (ipykernel)",
   "language": "python",
   "name": "python3"
  },
  "language_info": {
   "codemirror_mode": {
    "name": "ipython",
    "version": 3
   },
   "file_extension": ".py",
   "mimetype": "text/x-python",
   "name": "python",
   "nbconvert_exporter": "python",
   "pygments_lexer": "ipython3",
   "version": "3.11.5"
  }
 },
 "nbformat": 4,
 "nbformat_minor": 5
}
