{
 "cells": [
  {
   "cell_type": "code",
   "execution_count": 3,
   "metadata": {},
   "outputs": [
    {
     "name": "stdout",
     "output_type": "stream",
     "text": [
      "ontario\n",
      "microsoft\n",
      "microsoft\n",
      "uk\n",
      "tasmania\n",
      "calgary\n"
     ]
    }
   ],
   "source": [
    "import numpy as np\n",
    "from scipy.spatial.distance import cdist\n",
    "from numpy.random import choice\n",
    "\n",
    "def get_replacement(w, D, k, sensitivity):\n",
    "    phi_w = D[w]\n",
    "    \n",
    "    # Find k similar words to w using D embeddings\n",
    "    distances = cdist([phi_w], list(D.values()), 'cosine')[0]\n",
    "    closest_indices = np.argsort(distances)\n",
    "    sim_set = [list(D.keys())[index] for index in closest_indices]\n",
    "    \n",
    "    # Use the exponential algorithm with given sensitivity to pick one word from sim_set\n",
    "    probabilities = np.exp(-sensitivity * np.sort(distances)[:k])\n",
    "    probabilities /= np.sum(probabilities)\n",
    "    picked_word = choice(sim_set, p=probabilities)\n",
    "    \n",
    "    return picked_word\n",
    "\n",
    "# Example usage\n",
    "if __name__ == \"__main__\":\n",
    "    # Load GloVe embeddings\n",
    "    glove_embeddings = {}\n",
    "    with open(\"glove.6B.300d.txt\", \"r\", encoding=\"utf-8\") as file:\n",
    "        for line in file:\n",
    "            values = line.split()\n",
    "            word = values[0]\n",
    "            vector = np.asarray(values[1:], dtype=\"float32\")\n",
    "            glove_embeddings[word] = vector\n",
    "    \n",
    "    # Get a replacement for a word\n",
    "    replacement_word = get_replacement('canada', glove_embeddings, k=100000, sensitivity=1.0)\n",
    "    print(replacement_word)\n",
    "    # Interactive part\n",
    "    while True:\n",
    "        input_word = input(\"Enter a word (type 'exit' to quit): \")\n",
    "        if input_word.lower() == 'exit':\n",
    "            break\n",
    "        print(get_replacement(input_word, glove_embeddings, k=100000, sensitivity=1.0))"
   ]
  }
 ],
 "metadata": {
  "kernelspec": {
   "display_name": "base",
   "language": "python",
   "name": "python3"
  },
  "language_info": {
   "codemirror_mode": {
    "name": "ipython",
    "version": 3
   },
   "file_extension": ".py",
   "mimetype": "text/x-python",
   "name": "python",
   "nbconvert_exporter": "python",
   "pygments_lexer": "ipython3",
   "version": "3.10.9"
  }
 },
 "nbformat": 4,
 "nbformat_minor": 2
}
