{
 "cells": [
  {
   "cell_type": "code",
   "execution_count": 3,
   "id": "2d9c26a5",
   "metadata": {},
   "outputs": [],
   "source": [
    "import pandas as pd\n",
    "import os\n",
    "import openai\n",
    "from ragas import evaluate\n",
    "from datasets import load_dataset\n",
    "from datasets import Dataset"
   ]
  },
  {
   "cell_type": "code",
   "execution_count": 2,
   "id": "144b5302",
   "metadata": {},
   "outputs": [
    {
     "name": "stdout",
     "output_type": "stream",
     "text": [
      "Downloading and preparing dataset fiqa/corpus to /Users/deathscope/.cache/huggingface/datasets/explodinggradients___fiqa/corpus/1.0.0/3dc7b639f5b4b16509a3299a2ceb78bf5fe98ee6b5fee25e7d5e4d290c88efb8...\n"
     ]
    },
    {
     "data": {
      "application/vnd.jupyter.widget-view+json": {
       "model_id": "858323b0635c485999983b5aba1cc6b8",
       "version_major": 2,
       "version_minor": 0
      },
      "text/plain": [
       "Downloading data:   0%|          | 0.00/44.6M [00:00<?, ?B/s]"
      ]
     },
     "metadata": {},
     "output_type": "display_data"
    },
    {
     "data": {
      "application/vnd.jupyter.widget-view+json": {
       "model_id": "",
       "version_major": 2,
       "version_minor": 0
      },
      "text/plain": [
       "Generating corpus split: 0 examples [00:00, ? examples/s]"
      ]
     },
     "metadata": {},
     "output_type": "display_data"
    },
    {
     "name": "stdout",
     "output_type": "stream",
     "text": [
      "/Users/deathscope/.cache/huggingface/datasets/downloads/19473702797a0b8c21a50f1826b68ba291f86ce9e03cb467b4003149fa4a2bfb\n",
      "Dataset fiqa downloaded and prepared to /Users/deathscope/.cache/huggingface/datasets/explodinggradients___fiqa/corpus/1.0.0/3dc7b639f5b4b16509a3299a2ceb78bf5fe98ee6b5fee25e7d5e4d290c88efb8. Subsequent calls will reuse this data.\n"
     ]
    },
    {
     "data": {
      "application/vnd.jupyter.widget-view+json": {
       "model_id": "e15f5151ea8540fa94f379403ca97ea0",
       "version_major": 2,
       "version_minor": 0
      },
      "text/plain": [
       "  0%|          | 0/1 [00:00<?, ?it/s]"
      ]
     },
     "metadata": {},
     "output_type": "display_data"
    }
   ],
   "source": [
    "corpus_dataset = load_dataset(\"explodinggradients/fiqa\", \"corpus\")\n",
    "corpus_dataset = corpus_dataset['corpus'].to_pandas()"
   ]
  },
  {
   "cell_type": "code",
   "execution_count": 3,
   "id": "ccf5f2c7",
   "metadata": {},
   "outputs": [
    {
     "data": {
      "text/html": [
       "<div>\n",
       "<style scoped>\n",
       "    .dataframe tbody tr th:only-of-type {\n",
       "        vertical-align: middle;\n",
       "    }\n",
       "\n",
       "    .dataframe tbody tr th {\n",
       "        vertical-align: top;\n",
       "    }\n",
       "\n",
       "    .dataframe thead th {\n",
       "        text-align: right;\n",
       "    }\n",
       "</style>\n",
       "<table border=\"1\" class=\"dataframe\">\n",
       "  <thead>\n",
       "    <tr style=\"text-align: right;\">\n",
       "      <th></th>\n",
       "      <th>doc</th>\n",
       "    </tr>\n",
       "  </thead>\n",
       "  <tbody>\n",
       "    <tr>\n",
       "      <th>0</th>\n",
       "      <td>I'm not saying I don't like the idea of on-the...</td>\n",
       "    </tr>\n",
       "    <tr>\n",
       "      <th>1</th>\n",
       "      <td>So nothing preventing false ratings besides ad...</td>\n",
       "    </tr>\n",
       "    <tr>\n",
       "      <th>2</th>\n",
       "      <td>You can never use a health FSA for individual ...</td>\n",
       "    </tr>\n",
       "    <tr>\n",
       "      <th>3</th>\n",
       "      <td>Samsung created the LCD and other flat screen ...</td>\n",
       "    </tr>\n",
       "    <tr>\n",
       "      <th>4</th>\n",
       "      <td>Here are the SEC requirements: The federal sec...</td>\n",
       "    </tr>\n",
       "  </tbody>\n",
       "</table>\n",
       "</div>"
      ],
      "text/plain": [
       "                                                 doc\n",
       "0  I'm not saying I don't like the idea of on-the...\n",
       "1  So nothing preventing false ratings besides ad...\n",
       "2  You can never use a health FSA for individual ...\n",
       "3  Samsung created the LCD and other flat screen ...\n",
       "4  Here are the SEC requirements: The federal sec..."
      ]
     },
     "execution_count": 3,
     "metadata": {},
     "output_type": "execute_result"
    }
   ],
   "source": [
    "corpus_dataset.head()"
   ]
  },
  {
   "cell_type": "code",
   "execution_count": 14,
   "id": "94339bfc",
   "metadata": {},
   "outputs": [],
   "source": [
    "openai.api_key = os.getenv(\"OPENAI_API_KEY\")"
   ]
  },
  {
   "cell_type": "code",
   "execution_count": 7,
   "id": "12f3b170",
   "metadata": {},
   "outputs": [],
   "source": [
    "import pinecone\n",
    "\n",
    "# get API key from app.pinecone.io and environment from console\n",
    "pinecone.init(\n",
    "    api_key='97892a63-64e0-41bd-a60c-f7bc053951bd',\n",
    "    environment='gcp-starter'\n",
    ")"
   ]
  },
  {
   "cell_type": "code",
   "execution_count": 8,
   "id": "76f5e12e",
   "metadata": {},
   "outputs": [],
   "source": [
    "import time\n",
    "\n",
    "index_name = 'llama-2-rag'\n",
    "\n",
    "if index_name not in pinecone.list_indexes():\n",
    "    pinecone.create_index(\n",
    "        index_name,\n",
    "        dimension=1536,\n",
    "        metric='cosine'\n",
    "    )\n",
    "    # wait for index to finish initialization\n",
    "    while not pinecone.describe_index(index_name).status['ready']:\n",
    "        time.sleep(1)\n",
    "\n",
    "index = pinecone.Index(index_name)"
   ]
  },
  {
   "cell_type": "code",
   "execution_count": 9,
   "id": "1d1f3621",
   "metadata": {},
   "outputs": [
    {
     "data": {
      "text/plain": [
       "{'dimension': 1536,\n",
       " 'index_fullness': 0.0,\n",
       " 'namespaces': {},\n",
       " 'total_vector_count': 0}"
      ]
     },
     "execution_count": 9,
     "metadata": {},
     "output_type": "execute_result"
    }
   ],
   "source": [
    "index.describe_index_stats()"
   ]
  },
  {
   "cell_type": "code",
   "execution_count": 15,
   "id": "206501de",
   "metadata": {},
   "outputs": [],
   "source": [
    "from langchain.embeddings.openai import OpenAIEmbeddings\n",
    "\n",
    "embed_model = OpenAIEmbeddings(model=\"text-embedding-ada-002\", openai_api_key=openai.api_key)"
   ]
  },
  {
   "cell_type": "code",
   "execution_count": 20,
   "id": "07b80669",
   "metadata": {},
   "outputs": [
    {
     "data": {
      "application/vnd.jupyter.widget-view+json": {
       "model_id": "d8a095cd1fab4aa286819e4ad1a4e124",
       "version_major": 2,
       "version_minor": 0
      },
      "text/plain": [
       "  0%|          | 0/577 [00:00<?, ?it/s]"
      ]
     },
     "metadata": {},
     "output_type": "display_data"
    },
    {
     "name": "stderr",
     "output_type": "stream",
     "text": [
      "Retrying langchain.embeddings.openai.embed_with_retry.<locals>._embed_with_retry in 4.0 seconds as it raised APIError: The server had an error while processing your request. Sorry about that! You can retry your request, or contact us through our help center at help.openai.com if the error persists. (Please include the request ID 363b00e9b2e873d44879cf8181ebcf5e in your message.) {\n",
      "  \"error\": {\n",
      "    \"message\": \"The server had an error while processing your request. Sorry about that! You can retry your request, or contact us through our help center at help.openai.com if the error persists. (Please include the request ID 363b00e9b2e873d44879cf8181ebcf5e in your message.)\",\n",
      "    \"type\": \"server_error\",\n",
      "    \"param\": null,\n",
      "    \"code\": null\n",
      "  }\n",
      "}\n",
      " 500 {'error': {'message': 'The server had an error while processing your request. Sorry about that! You can retry your request, or contact us through our help center at help.openai.com if the error persists. (Please include the request ID 363b00e9b2e873d44879cf8181ebcf5e in your message.)', 'type': 'server_error', 'param': None, 'code': None}} {'Date': 'Thu, 09 Nov 2023 05:28:13 GMT', 'Content-Type': 'application/json', 'Content-Length': '366', 'Connection': 'keep-alive', 'access-control-allow-origin': '*', 'openai-organization': 'lightsoft', 'openai-processing-ms': '30131', 'openai-version': '2020-10-01', 'strict-transport-security': 'max-age=15724800; includeSubDomains', 'x-ratelimit-limit-requests': '3000', 'x-ratelimit-limit-tokens': '1000000', 'x-ratelimit-remaining-requests': '2999', 'x-ratelimit-remaining-tokens': '980740', 'x-ratelimit-reset-requests': '20ms', 'x-ratelimit-reset-tokens': '1.155s', 'x-request-id': '363b00e9b2e873d44879cf8181ebcf5e', 'CF-Cache-Status': 'DYNAMIC', 'Server': 'cloudflare', 'CF-RAY': '8233a5eccb066065-YVR', 'alt-svc': 'h3=\":443\"; ma=86400'}.\n",
      "Retrying langchain.embeddings.openai.embed_with_retry.<locals>._embed_with_retry in 4.0 seconds as it raised APIError: The server had an error while processing your request. Sorry about that! You can retry your request, or contact us through our help center at help.openai.com if the error persists. (Please include the request ID c40789672b2f62d9283a905f235806dd in your message.) {\n",
      "  \"error\": {\n",
      "    \"message\": \"The server had an error while processing your request. Sorry about that! You can retry your request, or contact us through our help center at help.openai.com if the error persists. (Please include the request ID c40789672b2f62d9283a905f235806dd in your message.)\",\n",
      "    \"type\": \"server_error\",\n",
      "    \"param\": null,\n",
      "    \"code\": null\n",
      "  }\n",
      "}\n",
      " 500 {'error': {'message': 'The server had an error while processing your request. Sorry about that! You can retry your request, or contact us through our help center at help.openai.com if the error persists. (Please include the request ID c40789672b2f62d9283a905f235806dd in your message.)', 'type': 'server_error', 'param': None, 'code': None}} {'Date': 'Thu, 09 Nov 2023 05:29:36 GMT', 'Content-Type': 'application/json', 'Content-Length': '366', 'Connection': 'keep-alive', 'access-control-allow-origin': '*', 'openai-organization': 'lightsoft', 'openai-processing-ms': '30113', 'openai-version': '2020-10-01', 'strict-transport-security': 'max-age=15724800; includeSubDomains', 'x-ratelimit-limit-requests': '3000', 'x-ratelimit-limit-tokens': '1000000', 'x-ratelimit-remaining-requests': '2999', 'x-ratelimit-remaining-tokens': '979050', 'x-ratelimit-reset-requests': '20ms', 'x-ratelimit-reset-tokens': '1.256s', 'x-request-id': 'c40789672b2f62d9283a905f235806dd', 'CF-Cache-Status': 'DYNAMIC', 'Server': 'cloudflare', 'CF-RAY': '8233a7f5e8a02d78-YVR', 'alt-svc': 'h3=\":443\"; ma=86400'}.\n",
      "Retrying langchain.embeddings.openai.embed_with_retry.<locals>._embed_with_retry in 4.0 seconds as it raised APIError: The server had an error while processing your request. Sorry about that! You can retry your request, or contact us through our help center at help.openai.com if the error persists. (Please include the request ID ea31eb3c21edefcd12931a304c1418ec in your message.) {\n",
      "  \"error\": {\n",
      "    \"message\": \"The server had an error while processing your request. Sorry about that! You can retry your request, or contact us through our help center at help.openai.com if the error persists. (Please include the request ID ea31eb3c21edefcd12931a304c1418ec in your message.)\",\n",
      "    \"type\": \"server_error\",\n",
      "    \"param\": null,\n",
      "    \"code\": null\n",
      "  }\n",
      "}\n",
      " 500 {'error': {'message': 'The server had an error while processing your request. Sorry about that! You can retry your request, or contact us through our help center at help.openai.com if the error persists. (Please include the request ID ea31eb3c21edefcd12931a304c1418ec in your message.)', 'type': 'server_error', 'param': None, 'code': None}} {'Date': 'Thu, 09 Nov 2023 05:30:32 GMT', 'Content-Type': 'application/json', 'Content-Length': '366', 'Connection': 'keep-alive', 'access-control-allow-origin': '*', 'openai-organization': 'lightsoft', 'openai-processing-ms': '30122', 'openai-version': '2020-10-01', 'strict-transport-security': 'max-age=15724800; includeSubDomains', 'x-ratelimit-limit-requests': '3000', 'x-ratelimit-limit-tokens': '1000000', 'x-ratelimit-remaining-requests': '2999', 'x-ratelimit-remaining-tokens': '984347', 'x-ratelimit-reset-requests': '20ms', 'x-ratelimit-reset-tokens': '939ms', 'x-request-id': 'ea31eb3c21edefcd12931a304c1418ec', 'CF-Cache-Status': 'DYNAMIC', 'Server': 'cloudflare', 'CF-RAY': '8233a950c8f42d78-YVR', 'alt-svc': 'h3=\":443\"; ma=86400'}.\n",
      "Retrying langchain.embeddings.openai.embed_with_retry.<locals>._embed_with_retry in 4.0 seconds as it raised APIError: The server had an error processing your request. Sorry about that! You can retry your request, or contact us through our help center at help.openai.com if you keep seeing this error. (Please include the request ID 041f387f7f9b16b0f5cab748181af9a2 in your email.) {\n",
      "  \"error\": {\n",
      "    \"message\": \"The server had an error processing your request. Sorry about that! You can retry your request, or contact us through our help center at help.openai.com if you keep seeing this error. (Please include the request ID 041f387f7f9b16b0f5cab748181af9a2 in your email.)\",\n",
      "    \"type\": \"server_error\",\n",
      "    \"param\": null,\n",
      "    \"code\": null\n",
      "  }\n",
      "}\n",
      " 500 {'error': {'message': 'The server had an error processing your request. Sorry about that! You can retry your request, or contact us through our help center at help.openai.com if you keep seeing this error. (Please include the request ID 041f387f7f9b16b0f5cab748181af9a2 in your email.)', 'type': 'server_error', 'param': None, 'code': None}} {'Date': 'Thu, 09 Nov 2023 05:30:55 GMT', 'Content-Type': 'application/json', 'Content-Length': '366', 'Connection': 'keep-alive', 'access-control-allow-origin': '*', 'openai-organization': 'lightsoft', 'openai-processing-ms': '221', 'openai-version': '2020-10-01', 'strict-transport-security': 'max-age=15724800; includeSubDomains', 'x-ratelimit-limit-requests': '3000', 'x-ratelimit-limit-tokens': '1000000', 'x-ratelimit-remaining-requests': '2999', 'x-ratelimit-remaining-tokens': '974294', 'x-ratelimit-reset-requests': '20ms', 'x-ratelimit-reset-tokens': '1.542s', 'x-request-id': '041f387f7f9b16b0f5cab748181af9a2', 'CF-Cache-Status': 'DYNAMIC', 'Server': 'cloudflare', 'CF-RAY': '8233aaa088062d78-YVR', 'alt-svc': 'h3=\":443\"; ma=86400'}.\n",
      "Retrying langchain.embeddings.openai.embed_with_retry.<locals>._embed_with_retry in 4.0 seconds as it raised APIError: The server had an error processing your request. Sorry about that! You can retry your request, or contact us through our help center at help.openai.com if you keep seeing this error. (Please include the request ID 0f26531ef1ff3b39464c1d18dc0eefd0 in your email.) {\n",
      "  \"error\": {\n",
      "    \"message\": \"The server had an error processing your request. Sorry about that! You can retry your request, or contact us through our help center at help.openai.com if you keep seeing this error. (Please include the request ID 0f26531ef1ff3b39464c1d18dc0eefd0 in your email.)\",\n",
      "    \"type\": \"server_error\",\n",
      "    \"param\": null,\n",
      "    \"code\": null\n",
      "  }\n",
      "}\n",
      " 500 {'error': {'message': 'The server had an error processing your request. Sorry about that! You can retry your request, or contact us through our help center at help.openai.com if you keep seeing this error. (Please include the request ID 0f26531ef1ff3b39464c1d18dc0eefd0 in your email.)', 'type': 'server_error', 'param': None, 'code': None}} {'Date': 'Thu, 09 Nov 2023 05:31:10 GMT', 'Content-Type': 'application/json', 'Content-Length': '366', 'Connection': 'keep-alive', 'access-control-allow-origin': '*', 'openai-organization': 'lightsoft', 'openai-processing-ms': '236', 'openai-version': '2020-10-01', 'strict-transport-security': 'max-age=15724800; includeSubDomains', 'x-ratelimit-limit-requests': '3000', 'x-ratelimit-limit-tokens': '1000000', 'x-ratelimit-remaining-requests': '2999', 'x-ratelimit-remaining-tokens': '983410', 'x-ratelimit-reset-requests': '20ms', 'x-ratelimit-reset-tokens': '995ms', 'x-request-id': '0f26531ef1ff3b39464c1d18dc0eefd0', 'CF-Cache-Status': 'DYNAMIC', 'Server': 'cloudflare', 'CF-RAY': '8233aafc1aef2d78-YVR', 'alt-svc': 'h3=\":443\"; ma=86400'}.\n"
     ]
    },
    {
     "name": "stderr",
     "output_type": "stream",
     "text": [
      "Retrying langchain.embeddings.openai.embed_with_retry.<locals>._embed_with_retry in 4.0 seconds as it raised APIError: The server had an error while processing your request. Sorry about that! You can retry your request, or contact us through our help center at help.openai.com if the error persists. (Please include the request ID 30ebd611a22b77645e7fe457f35920de in your message.) {\n",
      "  \"error\": {\n",
      "    \"message\": \"The server had an error while processing your request. Sorry about that! You can retry your request, or contact us through our help center at help.openai.com if the error persists. (Please include the request ID 30ebd611a22b77645e7fe457f35920de in your message.)\",\n",
      "    \"type\": \"server_error\",\n",
      "    \"param\": null,\n",
      "    \"code\": null\n",
      "  }\n",
      "}\n",
      " 500 {'error': {'message': 'The server had an error while processing your request. Sorry about that! You can retry your request, or contact us through our help center at help.openai.com if the error persists. (Please include the request ID 30ebd611a22b77645e7fe457f35920de in your message.)', 'type': 'server_error', 'param': None, 'code': None}} {'Date': 'Thu, 09 Nov 2023 05:32:10 GMT', 'Content-Type': 'application/json', 'Content-Length': '366', 'Connection': 'keep-alive', 'access-control-allow-origin': '*', 'openai-organization': 'lightsoft', 'openai-processing-ms': '30116', 'openai-version': '2020-10-01', 'strict-transport-security': 'max-age=15724800; includeSubDomains', 'x-ratelimit-limit-requests': '3000', 'x-ratelimit-limit-tokens': '1000000', 'x-ratelimit-remaining-requests': '2999', 'x-ratelimit-remaining-tokens': '976936', 'x-ratelimit-reset-requests': '20ms', 'x-ratelimit-reset-tokens': '1.383s', 'x-request-id': '30ebd611a22b77645e7fe457f35920de', 'CF-Cache-Status': 'DYNAMIC', 'Server': 'cloudflare', 'CF-RAY': '8233abb6097c2d78-YVR', 'alt-svc': 'h3=\":443\"; ma=86400'}.\n"
     ]
    }
   ],
   "source": [
    "from tqdm.auto import tqdm  # for progress bar\n",
    "\n",
    "batch_size = 100\n",
    "\n",
    "for i in tqdm(range(0, len(corpus_dataset), batch_size)):\n",
    "    i_end = min(len(corpus_dataset), i + batch_size)\n",
    "    # get batch of data\n",
    "    batch = corpus_dataset.iloc[i:i_end]\n",
    "    # generate string ids for each chunk based on the DataFrame index\n",
    "    ids = [str(id_num) for id_num in range(i, i_end)]\n",
    "    # get text to embed\n",
    "    texts = [x['doc'] for _, x in batch.iterrows()]\n",
    "    # embed text\n",
    "    embeds = embed_model.embed_documents(texts)\n",
    "    # get metadata to store in Pinecone\n",
    "    metadata = [\n",
    "        {'text': x['doc']} for _, x in batch.iterrows()\n",
    "    ]"
   ]
  },
  {
   "cell_type": "code",
   "execution_count": 21,
   "id": "7dee9c14",
   "metadata": {},
   "outputs": [
    {
     "data": {
      "text/plain": [
       "{'upserted_count': 38}"
      ]
     },
     "execution_count": 21,
     "metadata": {},
     "output_type": "execute_result"
    }
   ],
   "source": [
    "# add to Pinecone\n",
    "index.upsert(vectors=zip(ids, embeds, metadata))"
   ]
  },
  {
   "cell_type": "code",
   "execution_count": 22,
   "id": "83e970e6",
   "metadata": {},
   "outputs": [
    {
     "data": {
      "text/plain": [
       "{'dimension': 1536,\n",
       " 'index_fullness': 0.0,\n",
       " 'namespaces': {},\n",
       " 'total_vector_count': 0}"
      ]
     },
     "execution_count": 22,
     "metadata": {},
     "output_type": "execute_result"
    }
   ],
   "source": [
    "index.describe_index_stats()"
   ]
  },
  {
   "cell_type": "code",
   "execution_count": 26,
   "id": "0230dbbd",
   "metadata": {},
   "outputs": [],
   "source": [
    "from langchain.vectorstores import Pinecone\n",
    "\n",
    "text_field = \"text\"  # the metadata field that contains our text\n",
    "\n",
    "# initialize the vector store object\n",
    "vectorstore = Pinecone(\n",
    "    index, embed_model.embed_query, text_field\n",
    ")"
   ]
  },
  {
   "cell_type": "code",
   "execution_count": 27,
   "id": "6ffaef21",
   "metadata": {},
   "outputs": [
    {
     "data": {
      "text/plain": [
       "[Document(page_content=\"You are in business for yourself. You file Schedule C with your income tax return, and can deduct the business expenses and the cost of goods sold from the gross receipts of your business. If you have inventory (things bought but not yet sold by the end of the year of purchase), then there are other calculations that need to be done.  You will have to pay income tax as well as Social Security and Medicare taxes (both the employee's share and the employer's share) on the net profits from this business activity.\"),\n",
       " Document(page_content='\"What they are doing is wrong. The IRS and the state might not be happy with what they are doing.  One thing you can ask for them to do is to give you a credit card for business and travel expenses. You will still have to submit receipts for expenses, but it will also make it clear to the IRS that these checks are not income. Keep the pay stubs for the year, or the pdf files if they don\\'t give you a physical stub. Pay attention to the YTD numbers on each stub to make sure they aren\\'t sneaking in the expenses as income. If they continue to do this, ask about ownership of the items purchased, since you will be paying the tax shouldn\\'t you own it?  You can in the future tell them \"\"I was going to buy X like the customer wanted, but I just bought a new washer at home and their wasn\\'t enough room on the credit card. Maybe next month\"\"\"'),\n",
       " Document(page_content=\"For 2014/15 it looks something like this:  To make it a bit clearer, let's also plot the difference in net income for self-employment and a single person company compared to employment:  Self-employment is slightly worse between £5885 and about £10,500 because Class 2 NI kicks in before the employed person starts paying any tax. After that, self-employment is better because you pay 9% Class 4 NI rather than 12% Class 1 NI. Once higher rate tax kicks in, the saving stops growing. The single-person company is most tax-efficient at all points, ignoring any accountancy costs it incurs. Strange things happen between £100k and about £135k because the withdrawal of the personal allowance kicks in at a different point when receiving dividends. We can also plot the percentage of income paid as tax for each case:  The strange kink for self-employment below £10k is caused by Class 2 NI again. Employment and self-employment both gradually tend towards paying 47%, reaching 46.5% for £2m gross income. The company tends towards 44.44%, reaching 43.6% for £2m gross income.\")]"
      ]
     },
     "execution_count": 27,
     "metadata": {},
     "output_type": "execute_result"
    }
   ],
   "source": [
    "query = \"Income tax exemptions for small business?\"\n",
    "\n",
    "vectorstore.similarity_search(query, k=3)"
   ]
  },
  {
   "cell_type": "code",
   "execution_count": 40,
   "id": "34517881",
   "metadata": {},
   "outputs": [],
   "source": [
    "def augment_prompt(query: str):\n",
    "    # get top 3 results from knowledge base\n",
    "    results = vectorstore.similarity_search(query, k=5)\n",
    "    contexts = [x.page_content for x in results]\n",
    "    # get the text from the results\n",
    "    source_knowledge = \"\\n\".join(contexts)\n",
    "    # feed into an augmented prompt\n",
    "    augmented_prompt = f\"\"\"Using the contexts below, answer the query.\n",
    "\n",
    "    Contexts:\n",
    "    {source_knowledge}\n",
    "\n",
    "    Query: {query}\"\"\"\n",
    "    return contexts, augmented_prompt"
   ]
  },
  {
   "cell_type": "code",
   "execution_count": 1,
   "id": "82e06d84",
   "metadata": {},
   "outputs": [],
   "source": [
    "from langchain.chat_models import ChatOpenAI"
   ]
  },
  {
   "cell_type": "code",
   "execution_count": 6,
   "id": "f723becf",
   "metadata": {},
   "outputs": [],
   "source": [
    "chat = ChatOpenAI(\n",
    "    openai_api_key=openai.api_key,\n",
    "    model='gpt-4-1106-preview'\n",
    ")"
   ]
  },
  {
   "cell_type": "code",
   "execution_count": 7,
   "id": "6d634134",
   "metadata": {},
   "outputs": [],
   "source": [
    "from langchain.schema import (\n",
    "    SystemMessage,\n",
    "    HumanMessage,\n",
    "    AIMessage\n",
    ")"
   ]
  },
  {
   "cell_type": "code",
   "execution_count": 8,
   "id": "fa336a2b",
   "metadata": {},
   "outputs": [],
   "source": [
    "messages = [\n",
    "    SystemMessage(content=\"You are a helpful assistant.\"),\n",
    "    HumanMessage(content=\"Hi AI, how are you today?\"),\n",
    "    AIMessage(content=\"I'm great thank you. How can I help you?\"),\n",
    "    HumanMessage(content=\"I'd like to understand string theory.\")\n",
    "]"
   ]
  },
  {
   "cell_type": "code",
   "execution_count": null,
   "id": "cc636354",
   "metadata": {},
   "outputs": [],
   "source": [
    "res = chat(messages)\n",
    "res"
   ]
  },
  {
   "cell_type": "code",
   "execution_count": 58,
   "id": "1dff9cea",
   "metadata": {},
   "outputs": [
    {
     "name": "stderr",
     "output_type": "stream",
     "text": [
      "Found cached dataset fiqa (/Users/deathscope/.cache/huggingface/datasets/explodinggradients___fiqa/main/1.0.0/3dc7b639f5b4b16509a3299a2ceb78bf5fe98ee6b5fee25e7d5e4d290c88efb8)\n"
     ]
    },
    {
     "data": {
      "application/vnd.jupyter.widget-view+json": {
       "model_id": "346e3243974b4584bcc4de282d5e25f9",
       "version_major": 2,
       "version_minor": 0
      },
      "text/plain": [
       "  0%|          | 0/3 [00:00<?, ?it/s]"
      ]
     },
     "metadata": {},
     "output_type": "display_data"
    }
   ],
   "source": [
    "query_dataset = load_dataset(\"explodinggradients/fiqa\", \"main\")\n",
    "query_dataset = query_dataset['validation'].to_pandas()\n",
    "query_dataset_sampled = query_dataset.sample(n=100, random_state=1)"
   ]
  },
  {
   "cell_type": "code",
   "execution_count": 60,
   "id": "14c6a6e1",
   "metadata": {},
   "outputs": [
    {
     "data": {
      "application/vnd.jupyter.widget-view+json": {
       "model_id": "9c1140116df24f229ce36a154379e5f9",
       "version_major": 2,
       "version_minor": 0
      },
      "text/plain": [
       "Processing questions:   0%|          | 0/100 [00:00<?, ?it/s]"
      ]
     },
     "metadata": {},
     "output_type": "display_data"
    },
    {
     "name": "stderr",
     "output_type": "stream",
     "text": [
      "Retrying langchain.chat_models.openai.ChatOpenAI.completion_with_retry.<locals>._completion_with_retry in 4.0 seconds as it raised Timeout: Request timed out: HTTPSConnectionPool(host='api.openai.com', port=443): Read timed out. (read timeout=600).\n",
      "Retrying langchain.chat_models.openai.ChatOpenAI.completion_with_retry.<locals>._completion_with_retry in 4.0 seconds as it raised Timeout: Request timed out: HTTPSConnectionPool(host='api.openai.com', port=443): Read timed out. (read timeout=600).\n",
      "Retrying langchain.chat_models.openai.ChatOpenAI.completion_with_retry.<locals>._completion_with_retry in 4.0 seconds as it raised Timeout: Request timed out: HTTPSConnectionPool(host='api.openai.com', port=443): Read timed out. (read timeout=600).\n",
      "Retrying langchain.chat_models.openai.ChatOpenAI.completion_with_retry.<locals>._completion_with_retry in 4.0 seconds as it raised Timeout: Request timed out: HTTPSConnectionPool(host='api.openai.com', port=443): Read timed out. (read timeout=600).\n",
      "Retrying langchain.chat_models.openai.ChatOpenAI.completion_with_retry.<locals>._completion_with_retry in 4.0 seconds as it raised Timeout: Request timed out: HTTPSConnectionPool(host='api.openai.com', port=443): Read timed out. (read timeout=600).\n"
     ]
    }
   ],
   "source": [
    "# Initialize lists to store the new columns' data.\n",
    "contexts_list = []\n",
    "answers_list = []\n",
    "\n",
    "# Iterate over each question in the DataFrame.\n",
    "for question in tqdm(query_dataset_sampled['question'], desc=\"Processing questions\"):\n",
    "    contexts, prompt = augment_prompt(question)  # Get contexts and prompt for the question.\n",
    "    contexts_list.append(contexts)  # Append contexts to the list.\n",
    "\n",
    "    # Create a new user prompt and add to messages.\n",
    "    messages = [SystemMessage(content=\"You are a helpful assistant.\"), HumanMessage(content=prompt)]\n",
    "\n",
    "    # Simulate a chat response.\n",
    "    res = chat(messages)  # In practice, this would call the actual chat function.\n",
    "    answers_list.append(res.content)  # Append the content of the response to the list."
   ]
  },
  {
   "cell_type": "code",
   "execution_count": 61,
   "id": "d179bd1a",
   "metadata": {},
   "outputs": [],
   "source": [
    "# Add the new columns to the DataFrame.\n",
    "query_dataset_sampled['contexts'] = contexts_list\n",
    "query_dataset_sampled['answer'] = answers_list"
   ]
  },
  {
   "cell_type": "code",
   "execution_count": 71,
   "id": "50003407",
   "metadata": {},
   "outputs": [],
   "source": [
    "query_dataset_sampled.to_csv('ragas_dataset.csv')"
   ]
  },
  {
   "cell_type": "code",
   "execution_count": 77,
   "id": "cf0880d1",
   "metadata": {},
   "outputs": [],
   "source": [
    "query_dataset_hf = query_dataset_sampled.sample(n=30, random_state=1)\n",
    "query_dataset_hf = Dataset.from_pandas(query_dataset_hf)"
   ]
  },
  {
   "cell_type": "code",
   "execution_count": 80,
   "id": "353be64e",
   "metadata": {},
   "outputs": [
    {
     "name": "stderr",
     "output_type": "stream",
     "text": [
      "100%|█████████████████████████████████████████████| 2/2 [02:14<00:00, 67.03s/it]"
     ]
    },
    {
     "name": "stdout",
     "output_type": "stream",
     "text": [
      "                                             question  \\\n",
      "0   How can I get the car refinanced under my name...   \n",
      "1   Isn't an Initial Coin Offering (ICO) a surefir...   \n",
      "2   Why do people sell when demand pushes share pr...   \n",
      "3   Stopping Payment on a Check--How Long Does it ...   \n",
      "4   Borrow money to invest in a business venture w...   \n",
      "5   Is forward P/E calculated using current price(...   \n",
      "6   Is there a term for the risk of investing in a...   \n",
      "7   What kind of value do retail investors look fo...   \n",
      "8   Is it possible to influence a company's action...   \n",
      "9   What is the best way to learn investing techni...   \n",
      "10  Could there be an interest for a company to ma...   \n",
      "11                        Placing bid in market price   \n",
      "12       What is the Blue Line in these stock Charts?   \n",
      "13         Personal credit card for business expenses   \n",
      "14  Home (re)Finance and Providing Additional Info...   \n",
      "15  Ideas on how to invest a relatively small amou...   \n",
      "16               What is the purpose of property tax?   \n",
      "17  Is this the right formula to use implied volat...   \n",
      "18                      Leasing a car I intend to buy   \n",
      "19  Companies that use their cash to buy back stoc...   \n",
      "20  What should I consider when I try to invest my...   \n",
      "21               Would I need to keep track of 1099s?   \n",
      "22    In-laws moving in (financial/tax implications)?   \n",
      "23        Is it legal to charge interest on interest?   \n",
      "24  Where to find turnover / average amount of tim...   \n",
      "25  Working remotely from Canada for a US company....   \n",
      "26  How to calculate the standard deviation of sto...   \n",
      "27  Is there an ETF or Mutual Fund which tracks Ja...   \n",
      "28  What is the median retirement savings in the U...   \n",
      "29       Direct Registration System vs Brokerage Firm   \n",
      "\n",
      "                                        ground_truths  \\\n",
      "0   [\"The best solution is to \"\"buy\"\" the car and ...   \n",
      "1   [\"My big gripe with the ICO name and correspon...   \n",
      "2   [You are assuming the price increase will cont...   \n",
      "3   [Is this a USA bank to a USA bank transaction?...   \n",
      "4   [It's clearly a risk, but is it any different ...   \n",
      "5   [generally Forward P/E is computed as current ...   \n",
      "6   [\"I'd question whether a guaranteed savings in...   \n",
      "7   [\"I'm not downvoting you because I can relate,...   \n",
      "8   [To quote Adam Smith, 'Everything is worth wha...   \n",
      "9   [All the things you suggest are good, but I th...   \n",
      "10  [I'm sure Nintendo made that statement to stem...   \n",
      "11  [\"Market price is just the bid or offer price ...   \n",
      "12  [The curved lines (on my screen orange, yellow...   \n",
      "13  [Early on, one might not be able to get credit...   \n",
      "14  [I have never had a lender ask my budget, only...   \n",
      "15  [First I  assume you are resident for tax purp...   \n",
      "16  [\"Property taxes, where they exist, are genera...   \n",
      "17  [To get the probability of hitting a target pr...   \n",
      "18  [\"You are still paying a heavy price for the '...   \n",
      "19  [IBM is famous for spending lots of money on s...   \n",
      "20  [\"I don't think you should mix the two notions...   \n",
      "21  [You have to file and issue each one of them a...   \n",
      "22  [GET A LAWYER. Doing business with relatives i...   \n",
      "23  [Yes it most cases it is legal. Plus depending...   \n",
      "24  [You can make a rough calculation of the annua...   \n",
      "25  [\"I'm no lawyer and no expert, so take my rema...   \n",
      "26  [This link does it ok:  http://investexcel.net...   \n",
      "27  [Funds can't limit themselves to a small numbe...   \n",
      "28  [\"Social security and pensions make up a big p...   \n",
      "29  [You'll need to talk to your broker about regi...   \n",
      "\n",
      "                                             contexts  \\\n",
      "0   [\"It depends on when, where and how the accoun...   \n",
      "1   [What is the goal of the money?  If it is to u...   \n",
      "2   [Investopedia has a good explanation of the te...   \n",
      "3   [Honestly, if you're going to restrict the onl...   \n",
      "4   [Investopedia has a good explanation of the te...   \n",
      "5   [Points are index based.  Simple take the tota...   \n",
      "6   [No I get that.  But if you don’t want risk, t...   \n",
      "7   [No I get that.  But if you don’t want risk, t...   \n",
      "8   [Investopedia has a good explanation of the te...   \n",
      "9   [No I get that.  But if you don’t want risk, t...   \n",
      "10  [Investopedia has a good explanation of the te...   \n",
      "11  [Investopedia has a good explanation of the te...   \n",
      "12  [Points are index based.  Simple take the tota...   \n",
      "13  [\"What they are doing is wrong. The IRS and th...   \n",
      "14  [I'm not sure if I am exactly what you are loo...   \n",
      "15  [What is the goal of the money?  If it is to u...   \n",
      "16  [&gt;Well, first off, the roads are more than ...   \n",
      "17  [Points are index based.  Simple take the tota...   \n",
      "18  [&gt;Case in point with Uber: Let's say you de...   \n",
      "19  [Investopedia has a good explanation of the te...   \n",
      "20  [What is the goal of the money?  If it is to u...   \n",
      "21  [\"What they are doing is wrong. The IRS and th...   \n",
      "22  [\"It depends on when, where and how the accoun...   \n",
      "23  [Investopedia has a good explanation of the te...   \n",
      "24  [No I get that.  But if you don’t want risk, t...   \n",
      "25  [\"Well, I'm not an expert and you sound pretty...   \n",
      "26  [Points are index based.  Simple take the tota...   \n",
      "27  [No I get that.  But if you don’t want risk, t...   \n",
      "28  [What is the goal of the money?  If it is to u...   \n",
      "29  [No I get that.  But if you don’t want risk, t...   \n",
      "\n",
      "                                               answer  __index_level_0__  \\\n",
      "0   Based on the given contexts, it is not clear h...                260   \n",
      "1   No, an Initial Coin Offering (ICO) is not a su...                165   \n",
      "2   People may sell when demand pushes share price...                442   \n",
      "3   The provided contexts do not directly address ...                117   \n",
      "4   Borrowing money to invest in a business ventur...                  6   \n",
      "5   Forward P/E is typically calculated using the ...                289   \n",
      "6   Yes, the term for the risk of investing in an ...                277   \n",
      "7   Retail investors typically look for two main t...                187   \n",
      "8   Yes, it is possible to influence a company's a...                162   \n",
      "9   The best way to learn investing techniques is ...                315   \n",
      "10  Yes, there could be an interest for a company ...                417   \n",
      "11  Placing a bid in the market price refers to th...                361   \n",
      "12  Based on the given contexts, there is no speci...                334   \n",
      "13  Based on the given contexts, it is suggested t...                  5   \n",
      "14  Based on the given contexts, it seems that the...                214   \n",
      "15  Based on the given contexts, I would suggest c...                233   \n",
      "16  The purpose of property tax is to generate rev...                306   \n",
      "17  No, the given contexts do not provide informat...                330   \n",
      "18  Leasing a car that you intend to buy can be a ...                250   \n",
      "19  When a company uses its cash to buy back stock...                322   \n",
      "20  When considering investing your money today fo...                 47   \n",
      "21  Yes, as a self-employed individual filing Sche...                 29   \n",
      "22  Based on the given query, there is no specific...                 92   \n",
      "23  Yes, it is generally legal to charge interest ...                257   \n",
      "24  To find the turnover or average amount of time...                146   \n",
      "25  To get paid while working remotely from Canada...                128   \n",
      "26  To calculate the standard deviation of stock r...                422   \n",
      "27  Based on the given contexts, there is no menti...                342   \n",
      "28  Based on the provided contexts, there is no in...                295   \n",
      "29  The given query is not directly addressed in t...                401   \n",
      "\n",
      "    answer_relevancy  \n",
      "0           0.700526  \n",
      "1           0.955674  \n",
      "2           0.973879  \n",
      "3           0.705319  \n",
      "4           0.941607  \n",
      "5           0.936211  \n",
      "6           0.996439  \n",
      "7           0.980434  \n",
      "8           0.967947  \n",
      "9           0.915127  \n",
      "10          0.944416  \n",
      "11          0.949067  \n",
      "12          0.745300  \n",
      "13          0.830805  \n",
      "14          0.729892  \n",
      "15          0.988167  \n",
      "16          0.961188  \n",
      "17          0.734772  \n",
      "18          0.867247  \n",
      "19          0.961837  \n",
      "20          0.958272  \n",
      "21          0.902589  \n",
      "22          0.696932  \n",
      "23          1.000000  \n",
      "24          0.943030  \n",
      "25          0.980457  \n",
      "26          0.989083  \n",
      "27          0.980509  \n",
      "28          0.988662  \n",
      "29          0.913708  \n"
     ]
    },
    {
     "name": "stderr",
     "output_type": "stream",
     "text": [
      "\n"
     ]
    }
   ],
   "source": [
    "from ragas.metrics import AnswerRelevancy\n",
    "from langchain.embeddings import HuggingFaceEmbeddings\n",
    "\n",
    "embeddings = HuggingFaceEmbeddings(model_name='BAAI/bge-base-en')\n",
    "answer_relevancy = AnswerRelevancy(\n",
    "    embeddings=embeddings\n",
    ")\n",
    "\n",
    "# init_model to load models used\n",
    "answer_relevancy.init_model()\n",
    "\n",
    "results = answer_relevancy.score(query_dataset_hf)\n",
    "\n",
    "print(results.to_pandas())"
   ]
  },
  {
   "cell_type": "code",
   "execution_count": 81,
   "id": "5140750f",
   "metadata": {},
   "outputs": [
    {
     "name": "stderr",
     "output_type": "stream",
     "text": [
      " 33%|██████████████▋                             | 1/3 [05:00<10:00, 300.17s/it]Retrying langchain.chat_models.openai.ChatOpenAI.completion_with_retry.<locals>._completion_with_retry in 4.0 seconds as it raised ServiceUnavailableError: The server is overloaded or not ready yet..\n",
      "100%|████████████████████████████████████████████| 3/3 [15:53<00:00, 317.93s/it]"
     ]
    },
    {
     "name": "stdout",
     "output_type": "stream",
     "text": [
      "Dataset({\n",
      "    features: ['question', 'ground_truths', 'contexts', 'answer', '__index_level_0__', 'faithfulness'],\n",
      "    num_rows: 30\n",
      "})\n"
     ]
    },
    {
     "name": "stderr",
     "output_type": "stream",
     "text": [
      "\n"
     ]
    }
   ],
   "source": [
    "from ragas.metrics.faithfulness import Faithfulness\n",
    "faithfulness = Faithfulness(\n",
    "    batch_size = 10\n",
    ")\n",
    "faith_results = faithfulness.score(query_dataset_hf)\n",
    "print(faith_results)"
   ]
  },
  {
   "cell_type": "code",
   "execution_count": 82,
   "id": "ab164b9f",
   "metadata": {},
   "outputs": [
    {
     "name": "stderr",
     "output_type": "stream",
     "text": [
      "  0%|                                                     | 0/2 [00:00<?, ?it/s]Retrying langchain.chat_models.openai.ChatOpenAI.completion_with_retry.<locals>._completion_with_retry in 4.0 seconds as it raised Timeout: Request timed out: HTTPSConnectionPool(host='api.openai.com', port=443): Read timed out. (read timeout=600).\n",
      " 50%|██████████████████████                      | 1/2 [11:40<11:40, 700.20s/it]Retrying langchain.chat_models.openai.ChatOpenAI.completion_with_retry.<locals>._completion_with_retry in 4.0 seconds as it raised Timeout: Request timed out: HTTPSConnectionPool(host='api.openai.com', port=443): Read timed out. (read timeout=600).\n",
      "Retrying langchain.chat_models.openai.ChatOpenAI.completion_with_retry.<locals>._completion_with_retry in 4.0 seconds as it raised Timeout: Request timed out: HTTPSConnectionPool(host='api.openai.com', port=443): Read timed out. (read timeout=600).\n",
      "100%|███████████████████████████████████████████| 2/2 [34:57<00:00, 1048.58s/it]"
     ]
    },
    {
     "name": "stdout",
     "output_type": "stream",
     "text": [
      "Dataset({\n",
      "    features: ['question', 'ground_truths', 'contexts', 'answer', '__index_level_0__', 'context_precision'],\n",
      "    num_rows: 30\n",
      "})\n"
     ]
    },
    {
     "name": "stderr",
     "output_type": "stream",
     "text": [
      "\n"
     ]
    }
   ],
   "source": [
    "from ragas.metrics import ContextPrecision\n",
    "context_precision = ContextPrecision()\n",
    "\n",
    "cp_results = context_precision.score(query_dataset_hf)\n",
    "print(cp_results)"
   ]
  },
  {
   "cell_type": "code",
   "execution_count": 83,
   "id": "ebd3cdb5",
   "metadata": {},
   "outputs": [
    {
     "name": "stderr",
     "output_type": "stream",
     "text": [
      " 33%|██████████████▋                             | 1/3 [13:31<27:02, 811.32s/it]Retrying langchain.chat_models.openai.ChatOpenAI.completion_with_retry.<locals>._completion_with_retry in 4.0 seconds as it raised Timeout: Request timed out: HTTPSConnectionPool(host='api.openai.com', port=443): Read timed out. (read timeout=600).\n",
      " 67%|███████████████████████████▎             | 2/3 [1:01:24<33:44, 2024.23s/it]Retrying langchain.chat_models.openai.ChatOpenAI.completion_with_retry.<locals>._completion_with_retry in 4.0 seconds as it raised ServiceUnavailableError: The server is overloaded or not ready yet..\n",
      "100%|█████████████████████████████████████████| 3/3 [1:12:04<00:00, 1441.51s/it]"
     ]
    },
    {
     "name": "stdout",
     "output_type": "stream",
     "text": [
      "Dataset({\n",
      "    features: ['question', 'ground_truths', 'contexts', 'answer', '__index_level_0__', 'context_recall'],\n",
      "    num_rows: 30\n",
      "})\n"
     ]
    },
    {
     "name": "stderr",
     "output_type": "stream",
     "text": [
      "\n"
     ]
    }
   ],
   "source": [
    "from ragas.metrics import ContextRecall\n",
    "context_recall = ContextRecall(\n",
    "    batch_size=10\n",
    "\n",
    ")\n",
    "\n",
    "cr_results = context_recall.score(query_dataset_hf)\n",
    "print(cr_results)"
   ]
  },
  {
   "cell_type": "code",
   "execution_count": 85,
   "id": "2561902d",
   "metadata": {},
   "outputs": [
    {
     "data": {
      "text/plain": [
       "{'Average Answer Relevancy': 0.9046364800769946,\n",
       " 'Average Faithfulness': 0.5152380952380953,\n",
       " 'Average Context Precision': 0.16111111109861112,\n",
       " 'Average Context Recall': 0.17370833912449582}"
      ]
     },
     "execution_count": 85,
     "metadata": {},
     "output_type": "execute_result"
    }
   ],
   "source": [
    "results_df = results.to_pandas()\n",
    "faith_results_df = faith_results.to_pandas()\n",
    "cp_results_df = cp_results.to_pandas()\n",
    "cr_results_df = cr_results.to_pandas()\n",
    "\n",
    "# Calculate the average of the columns\n",
    "average_answer_relevancy = results_df['answer_relevancy'].mean()\n",
    "average_faithfulness = faith_results_df['faithfulness'].mean()\n",
    "average_context_precision = cp_results_df['context_precision'].mean()\n",
    "average_context_recall = cr_results_df['context_recall'].mean()\n",
    "\n",
    "# You can print them out or store them as needed\n",
    "averages = {\n",
    "    \"Average Answer Relevancy\": average_answer_relevancy,\n",
    "    \"Average Faithfulness\": average_faithfulness,\n",
    "    \"Average Context Precision\": average_context_precision,\n",
    "    \"Average Context Recall\": average_context_recall\n",
    "}\n",
    "\n",
    "averages"
   ]
  },
  {
   "cell_type": "code",
   "execution_count": 86,
   "id": "82412613",
   "metadata": {},
   "outputs": [
    {
     "data": {
      "text/html": [
       "<div>\n",
       "<style scoped>\n",
       "    .dataframe tbody tr th:only-of-type {\n",
       "        vertical-align: middle;\n",
       "    }\n",
       "\n",
       "    .dataframe tbody tr th {\n",
       "        vertical-align: top;\n",
       "    }\n",
       "\n",
       "    .dataframe thead th {\n",
       "        text-align: right;\n",
       "    }\n",
       "</style>\n",
       "<table border=\"1\" class=\"dataframe\">\n",
       "  <thead>\n",
       "    <tr style=\"text-align: right;\">\n",
       "      <th></th>\n",
       "      <th>question</th>\n",
       "      <th>ground_truths</th>\n",
       "      <th>contexts</th>\n",
       "      <th>answer</th>\n",
       "      <th>__index_level_0__</th>\n",
       "      <th>context_precision</th>\n",
       "    </tr>\n",
       "  </thead>\n",
       "  <tbody>\n",
       "    <tr>\n",
       "      <th>0</th>\n",
       "      <td>How can I get the car refinanced under my name...</td>\n",
       "      <td>[\"The best solution is to \"\"buy\"\" the car and ...</td>\n",
       "      <td>[\"It depends on when, where and how the accoun...</td>\n",
       "      <td>Based on the given contexts, it is not clear h...</td>\n",
       "      <td>260</td>\n",
       "      <td>0.000000</td>\n",
       "    </tr>\n",
       "    <tr>\n",
       "      <th>1</th>\n",
       "      <td>Isn't an Initial Coin Offering (ICO) a surefir...</td>\n",
       "      <td>[\"My big gripe with the ICO name and correspon...</td>\n",
       "      <td>[What is the goal of the money?  If it is to u...</td>\n",
       "      <td>No, an Initial Coin Offering (ICO) is not a su...</td>\n",
       "      <td>165</td>\n",
       "      <td>0.000000</td>\n",
       "    </tr>\n",
       "    <tr>\n",
       "      <th>2</th>\n",
       "      <td>Why do people sell when demand pushes share pr...</td>\n",
       "      <td>[You are assuming the price increase will cont...</td>\n",
       "      <td>[Investopedia has a good explanation of the te...</td>\n",
       "      <td>People may sell when demand pushes share price...</td>\n",
       "      <td>442</td>\n",
       "      <td>0.000000</td>\n",
       "    </tr>\n",
       "    <tr>\n",
       "      <th>3</th>\n",
       "      <td>Stopping Payment on a Check--How Long Does it ...</td>\n",
       "      <td>[Is this a USA bank to a USA bank transaction?...</td>\n",
       "      <td>[Honestly, if you're going to restrict the onl...</td>\n",
       "      <td>The provided contexts do not directly address ...</td>\n",
       "      <td>117</td>\n",
       "      <td>0.000000</td>\n",
       "    </tr>\n",
       "    <tr>\n",
       "      <th>4</th>\n",
       "      <td>Borrow money to invest in a business venture w...</td>\n",
       "      <td>[It's clearly a risk, but is it any different ...</td>\n",
       "      <td>[Investopedia has a good explanation of the te...</td>\n",
       "      <td>Borrowing money to invest in a business ventur...</td>\n",
       "      <td>6</td>\n",
       "      <td>0.000000</td>\n",
       "    </tr>\n",
       "    <tr>\n",
       "      <th>5</th>\n",
       "      <td>Is forward P/E calculated using current price(...</td>\n",
       "      <td>[generally Forward P/E is computed as current ...</td>\n",
       "      <td>[Points are index based.  Simple take the tota...</td>\n",
       "      <td>Forward P/E is typically calculated using the ...</td>\n",
       "      <td>289</td>\n",
       "      <td>0.000000</td>\n",
       "    </tr>\n",
       "    <tr>\n",
       "      <th>6</th>\n",
       "      <td>Is there a term for the risk of investing in a...</td>\n",
       "      <td>[\"I'd question whether a guaranteed savings in...</td>\n",
       "      <td>[No I get that.  But if you don’t want risk, t...</td>\n",
       "      <td>Yes, the term for the risk of investing in an ...</td>\n",
       "      <td>277</td>\n",
       "      <td>1.000000</td>\n",
       "    </tr>\n",
       "    <tr>\n",
       "      <th>7</th>\n",
       "      <td>What kind of value do retail investors look fo...</td>\n",
       "      <td>[\"I'm not downvoting you because I can relate,...</td>\n",
       "      <td>[No I get that.  But if you don’t want risk, t...</td>\n",
       "      <td>Retail investors typically look for two main t...</td>\n",
       "      <td>187</td>\n",
       "      <td>0.000000</td>\n",
       "    </tr>\n",
       "    <tr>\n",
       "      <th>8</th>\n",
       "      <td>Is it possible to influence a company's action...</td>\n",
       "      <td>[To quote Adam Smith, 'Everything is worth wha...</td>\n",
       "      <td>[Investopedia has a good explanation of the te...</td>\n",
       "      <td>Yes, it is possible to influence a company's a...</td>\n",
       "      <td>162</td>\n",
       "      <td>0.000000</td>\n",
       "    </tr>\n",
       "    <tr>\n",
       "      <th>9</th>\n",
       "      <td>What is the best way to learn investing techni...</td>\n",
       "      <td>[All the things you suggest are good, but I th...</td>\n",
       "      <td>[No I get that.  But if you don’t want risk, t...</td>\n",
       "      <td>The best way to learn investing techniques is ...</td>\n",
       "      <td>315</td>\n",
       "      <td>0.833333</td>\n",
       "    </tr>\n",
       "    <tr>\n",
       "      <th>10</th>\n",
       "      <td>Could there be an interest for a company to ma...</td>\n",
       "      <td>[I'm sure Nintendo made that statement to stem...</td>\n",
       "      <td>[Investopedia has a good explanation of the te...</td>\n",
       "      <td>Yes, there could be an interest for a company ...</td>\n",
       "      <td>417</td>\n",
       "      <td>0.000000</td>\n",
       "    </tr>\n",
       "    <tr>\n",
       "      <th>11</th>\n",
       "      <td>Placing bid in market price</td>\n",
       "      <td>[\"Market price is just the bid or offer price ...</td>\n",
       "      <td>[Investopedia has a good explanation of the te...</td>\n",
       "      <td>Placing a bid in the market price refers to th...</td>\n",
       "      <td>361</td>\n",
       "      <td>0.000000</td>\n",
       "    </tr>\n",
       "    <tr>\n",
       "      <th>12</th>\n",
       "      <td>What is the Blue Line in these stock Charts?</td>\n",
       "      <td>[The curved lines (on my screen orange, yellow...</td>\n",
       "      <td>[Points are index based.  Simple take the tota...</td>\n",
       "      <td>Based on the given contexts, there is no speci...</td>\n",
       "      <td>334</td>\n",
       "      <td>0.000000</td>\n",
       "    </tr>\n",
       "    <tr>\n",
       "      <th>13</th>\n",
       "      <td>Personal credit card for business expenses</td>\n",
       "      <td>[Early on, one might not be able to get credit...</td>\n",
       "      <td>[\"What they are doing is wrong. The IRS and th...</td>\n",
       "      <td>Based on the given contexts, it is suggested t...</td>\n",
       "      <td>5</td>\n",
       "      <td>1.000000</td>\n",
       "    </tr>\n",
       "    <tr>\n",
       "      <th>14</th>\n",
       "      <td>Home (re)Finance and Providing Additional Info...</td>\n",
       "      <td>[I have never had a lender ask my budget, only...</td>\n",
       "      <td>[I'm not sure if I am exactly what you are loo...</td>\n",
       "      <td>Based on the given contexts, it seems that the...</td>\n",
       "      <td>214</td>\n",
       "      <td>0.000000</td>\n",
       "    </tr>\n",
       "    <tr>\n",
       "      <th>15</th>\n",
       "      <td>Ideas on how to invest a relatively small amou...</td>\n",
       "      <td>[First I  assume you are resident for tax purp...</td>\n",
       "      <td>[What is the goal of the money?  If it is to u...</td>\n",
       "      <td>Based on the given contexts, I would suggest c...</td>\n",
       "      <td>233</td>\n",
       "      <td>0.500000</td>\n",
       "    </tr>\n",
       "    <tr>\n",
       "      <th>16</th>\n",
       "      <td>What is the purpose of property tax?</td>\n",
       "      <td>[\"Property taxes, where they exist, are genera...</td>\n",
       "      <td>[&amp;gt;Well, first off, the roads are more than ...</td>\n",
       "      <td>The purpose of property tax is to generate rev...</td>\n",
       "      <td>306</td>\n",
       "      <td>0.000000</td>\n",
       "    </tr>\n",
       "    <tr>\n",
       "      <th>17</th>\n",
       "      <td>Is this the right formula to use implied volat...</td>\n",
       "      <td>[To get the probability of hitting a target pr...</td>\n",
       "      <td>[Points are index based.  Simple take the tota...</td>\n",
       "      <td>No, the given contexts do not provide informat...</td>\n",
       "      <td>330</td>\n",
       "      <td>0.000000</td>\n",
       "    </tr>\n",
       "    <tr>\n",
       "      <th>18</th>\n",
       "      <td>Leasing a car I intend to buy</td>\n",
       "      <td>[\"You are still paying a heavy price for the '...</td>\n",
       "      <td>[&amp;gt;Case in point with Uber: Let's say you de...</td>\n",
       "      <td>Leasing a car that you intend to buy can be a ...</td>\n",
       "      <td>250</td>\n",
       "      <td>0.000000</td>\n",
       "    </tr>\n",
       "    <tr>\n",
       "      <th>19</th>\n",
       "      <td>Companies that use their cash to buy back stoc...</td>\n",
       "      <td>[IBM is famous for spending lots of money on s...</td>\n",
       "      <td>[Investopedia has a good explanation of the te...</td>\n",
       "      <td>When a company uses its cash to buy back stock...</td>\n",
       "      <td>322</td>\n",
       "      <td>0.000000</td>\n",
       "    </tr>\n",
       "    <tr>\n",
       "      <th>20</th>\n",
       "      <td>What should I consider when I try to invest my...</td>\n",
       "      <td>[\"I don't think you should mix the two notions...</td>\n",
       "      <td>[What is the goal of the money?  If it is to u...</td>\n",
       "      <td>When considering investing your money today fo...</td>\n",
       "      <td>47</td>\n",
       "      <td>1.000000</td>\n",
       "    </tr>\n",
       "    <tr>\n",
       "      <th>21</th>\n",
       "      <td>Would I need to keep track of 1099s?</td>\n",
       "      <td>[You have to file and issue each one of them a...</td>\n",
       "      <td>[\"What they are doing is wrong. The IRS and th...</td>\n",
       "      <td>Yes, as a self-employed individual filing Sche...</td>\n",
       "      <td>29</td>\n",
       "      <td>0.500000</td>\n",
       "    </tr>\n",
       "    <tr>\n",
       "      <th>22</th>\n",
       "      <td>In-laws moving in (financial/tax implications)?</td>\n",
       "      <td>[GET A LAWYER. Doing business with relatives i...</td>\n",
       "      <td>[\"It depends on when, where and how the accoun...</td>\n",
       "      <td>Based on the given query, there is no specific...</td>\n",
       "      <td>92</td>\n",
       "      <td>0.000000</td>\n",
       "    </tr>\n",
       "    <tr>\n",
       "      <th>23</th>\n",
       "      <td>Is it legal to charge interest on interest?</td>\n",
       "      <td>[Yes it most cases it is legal. Plus depending...</td>\n",
       "      <td>[Investopedia has a good explanation of the te...</td>\n",
       "      <td>Yes, it is generally legal to charge interest ...</td>\n",
       "      <td>257</td>\n",
       "      <td>0.000000</td>\n",
       "    </tr>\n",
       "    <tr>\n",
       "      <th>24</th>\n",
       "      <td>Where to find turnover / average amount of tim...</td>\n",
       "      <td>[You can make a rough calculation of the annua...</td>\n",
       "      <td>[No I get that.  But if you don’t want risk, t...</td>\n",
       "      <td>To find the turnover or average amount of time...</td>\n",
       "      <td>146</td>\n",
       "      <td>0.000000</td>\n",
       "    </tr>\n",
       "    <tr>\n",
       "      <th>25</th>\n",
       "      <td>Working remotely from Canada for a US company....</td>\n",
       "      <td>[\"I'm no lawyer and no expert, so take my rema...</td>\n",
       "      <td>[\"Well, I'm not an expert and you sound pretty...</td>\n",
       "      <td>To get paid while working remotely from Canada...</td>\n",
       "      <td>128</td>\n",
       "      <td>0.000000</td>\n",
       "    </tr>\n",
       "    <tr>\n",
       "      <th>26</th>\n",
       "      <td>How to calculate the standard deviation of sto...</td>\n",
       "      <td>[This link does it ok:  http://investexcel.net...</td>\n",
       "      <td>[Points are index based.  Simple take the tota...</td>\n",
       "      <td>To calculate the standard deviation of stock r...</td>\n",
       "      <td>422</td>\n",
       "      <td>0.000000</td>\n",
       "    </tr>\n",
       "    <tr>\n",
       "      <th>27</th>\n",
       "      <td>Is there an ETF or Mutual Fund which tracks Ja...</td>\n",
       "      <td>[Funds can't limit themselves to a small numbe...</td>\n",
       "      <td>[No I get that.  But if you don’t want risk, t...</td>\n",
       "      <td>Based on the given contexts, there is no menti...</td>\n",
       "      <td>342</td>\n",
       "      <td>0.000000</td>\n",
       "    </tr>\n",
       "    <tr>\n",
       "      <th>28</th>\n",
       "      <td>What is the median retirement savings in the U...</td>\n",
       "      <td>[\"Social security and pensions make up a big p...</td>\n",
       "      <td>[What is the goal of the money?  If it is to u...</td>\n",
       "      <td>Based on the provided contexts, there is no in...</td>\n",
       "      <td>295</td>\n",
       "      <td>0.000000</td>\n",
       "    </tr>\n",
       "    <tr>\n",
       "      <th>29</th>\n",
       "      <td>Direct Registration System vs Brokerage Firm</td>\n",
       "      <td>[You'll need to talk to your broker about regi...</td>\n",
       "      <td>[No I get that.  But if you don’t want risk, t...</td>\n",
       "      <td>The given query is not directly addressed in t...</td>\n",
       "      <td>401</td>\n",
       "      <td>0.000000</td>\n",
       "    </tr>\n",
       "  </tbody>\n",
       "</table>\n",
       "</div>"
      ],
      "text/plain": [
       "                                             question  \\\n",
       "0   How can I get the car refinanced under my name...   \n",
       "1   Isn't an Initial Coin Offering (ICO) a surefir...   \n",
       "2   Why do people sell when demand pushes share pr...   \n",
       "3   Stopping Payment on a Check--How Long Does it ...   \n",
       "4   Borrow money to invest in a business venture w...   \n",
       "5   Is forward P/E calculated using current price(...   \n",
       "6   Is there a term for the risk of investing in a...   \n",
       "7   What kind of value do retail investors look fo...   \n",
       "8   Is it possible to influence a company's action...   \n",
       "9   What is the best way to learn investing techni...   \n",
       "10  Could there be an interest for a company to ma...   \n",
       "11                        Placing bid in market price   \n",
       "12       What is the Blue Line in these stock Charts?   \n",
       "13         Personal credit card for business expenses   \n",
       "14  Home (re)Finance and Providing Additional Info...   \n",
       "15  Ideas on how to invest a relatively small amou...   \n",
       "16               What is the purpose of property tax?   \n",
       "17  Is this the right formula to use implied volat...   \n",
       "18                      Leasing a car I intend to buy   \n",
       "19  Companies that use their cash to buy back stoc...   \n",
       "20  What should I consider when I try to invest my...   \n",
       "21               Would I need to keep track of 1099s?   \n",
       "22    In-laws moving in (financial/tax implications)?   \n",
       "23        Is it legal to charge interest on interest?   \n",
       "24  Where to find turnover / average amount of tim...   \n",
       "25  Working remotely from Canada for a US company....   \n",
       "26  How to calculate the standard deviation of sto...   \n",
       "27  Is there an ETF or Mutual Fund which tracks Ja...   \n",
       "28  What is the median retirement savings in the U...   \n",
       "29       Direct Registration System vs Brokerage Firm   \n",
       "\n",
       "                                        ground_truths  \\\n",
       "0   [\"The best solution is to \"\"buy\"\" the car and ...   \n",
       "1   [\"My big gripe with the ICO name and correspon...   \n",
       "2   [You are assuming the price increase will cont...   \n",
       "3   [Is this a USA bank to a USA bank transaction?...   \n",
       "4   [It's clearly a risk, but is it any different ...   \n",
       "5   [generally Forward P/E is computed as current ...   \n",
       "6   [\"I'd question whether a guaranteed savings in...   \n",
       "7   [\"I'm not downvoting you because I can relate,...   \n",
       "8   [To quote Adam Smith, 'Everything is worth wha...   \n",
       "9   [All the things you suggest are good, but I th...   \n",
       "10  [I'm sure Nintendo made that statement to stem...   \n",
       "11  [\"Market price is just the bid or offer price ...   \n",
       "12  [The curved lines (on my screen orange, yellow...   \n",
       "13  [Early on, one might not be able to get credit...   \n",
       "14  [I have never had a lender ask my budget, only...   \n",
       "15  [First I  assume you are resident for tax purp...   \n",
       "16  [\"Property taxes, where they exist, are genera...   \n",
       "17  [To get the probability of hitting a target pr...   \n",
       "18  [\"You are still paying a heavy price for the '...   \n",
       "19  [IBM is famous for spending lots of money on s...   \n",
       "20  [\"I don't think you should mix the two notions...   \n",
       "21  [You have to file and issue each one of them a...   \n",
       "22  [GET A LAWYER. Doing business with relatives i...   \n",
       "23  [Yes it most cases it is legal. Plus depending...   \n",
       "24  [You can make a rough calculation of the annua...   \n",
       "25  [\"I'm no lawyer and no expert, so take my rema...   \n",
       "26  [This link does it ok:  http://investexcel.net...   \n",
       "27  [Funds can't limit themselves to a small numbe...   \n",
       "28  [\"Social security and pensions make up a big p...   \n",
       "29  [You'll need to talk to your broker about regi...   \n",
       "\n",
       "                                             contexts  \\\n",
       "0   [\"It depends on when, where and how the accoun...   \n",
       "1   [What is the goal of the money?  If it is to u...   \n",
       "2   [Investopedia has a good explanation of the te...   \n",
       "3   [Honestly, if you're going to restrict the onl...   \n",
       "4   [Investopedia has a good explanation of the te...   \n",
       "5   [Points are index based.  Simple take the tota...   \n",
       "6   [No I get that.  But if you don’t want risk, t...   \n",
       "7   [No I get that.  But if you don’t want risk, t...   \n",
       "8   [Investopedia has a good explanation of the te...   \n",
       "9   [No I get that.  But if you don’t want risk, t...   \n",
       "10  [Investopedia has a good explanation of the te...   \n",
       "11  [Investopedia has a good explanation of the te...   \n",
       "12  [Points are index based.  Simple take the tota...   \n",
       "13  [\"What they are doing is wrong. The IRS and th...   \n",
       "14  [I'm not sure if I am exactly what you are loo...   \n",
       "15  [What is the goal of the money?  If it is to u...   \n",
       "16  [&gt;Well, first off, the roads are more than ...   \n",
       "17  [Points are index based.  Simple take the tota...   \n",
       "18  [&gt;Case in point with Uber: Let's say you de...   \n",
       "19  [Investopedia has a good explanation of the te...   \n",
       "20  [What is the goal of the money?  If it is to u...   \n",
       "21  [\"What they are doing is wrong. The IRS and th...   \n",
       "22  [\"It depends on when, where and how the accoun...   \n",
       "23  [Investopedia has a good explanation of the te...   \n",
       "24  [No I get that.  But if you don’t want risk, t...   \n",
       "25  [\"Well, I'm not an expert and you sound pretty...   \n",
       "26  [Points are index based.  Simple take the tota...   \n",
       "27  [No I get that.  But if you don’t want risk, t...   \n",
       "28  [What is the goal of the money?  If it is to u...   \n",
       "29  [No I get that.  But if you don’t want risk, t...   \n",
       "\n",
       "                                               answer  __index_level_0__  \\\n",
       "0   Based on the given contexts, it is not clear h...                260   \n",
       "1   No, an Initial Coin Offering (ICO) is not a su...                165   \n",
       "2   People may sell when demand pushes share price...                442   \n",
       "3   The provided contexts do not directly address ...                117   \n",
       "4   Borrowing money to invest in a business ventur...                  6   \n",
       "5   Forward P/E is typically calculated using the ...                289   \n",
       "6   Yes, the term for the risk of investing in an ...                277   \n",
       "7   Retail investors typically look for two main t...                187   \n",
       "8   Yes, it is possible to influence a company's a...                162   \n",
       "9   The best way to learn investing techniques is ...                315   \n",
       "10  Yes, there could be an interest for a company ...                417   \n",
       "11  Placing a bid in the market price refers to th...                361   \n",
       "12  Based on the given contexts, there is no speci...                334   \n",
       "13  Based on the given contexts, it is suggested t...                  5   \n",
       "14  Based on the given contexts, it seems that the...                214   \n",
       "15  Based on the given contexts, I would suggest c...                233   \n",
       "16  The purpose of property tax is to generate rev...                306   \n",
       "17  No, the given contexts do not provide informat...                330   \n",
       "18  Leasing a car that you intend to buy can be a ...                250   \n",
       "19  When a company uses its cash to buy back stock...                322   \n",
       "20  When considering investing your money today fo...                 47   \n",
       "21  Yes, as a self-employed individual filing Sche...                 29   \n",
       "22  Based on the given query, there is no specific...                 92   \n",
       "23  Yes, it is generally legal to charge interest ...                257   \n",
       "24  To find the turnover or average amount of time...                146   \n",
       "25  To get paid while working remotely from Canada...                128   \n",
       "26  To calculate the standard deviation of stock r...                422   \n",
       "27  Based on the given contexts, there is no menti...                342   \n",
       "28  Based on the provided contexts, there is no in...                295   \n",
       "29  The given query is not directly addressed in t...                401   \n",
       "\n",
       "    context_precision  \n",
       "0            0.000000  \n",
       "1            0.000000  \n",
       "2            0.000000  \n",
       "3            0.000000  \n",
       "4            0.000000  \n",
       "5            0.000000  \n",
       "6            1.000000  \n",
       "7            0.000000  \n",
       "8            0.000000  \n",
       "9            0.833333  \n",
       "10           0.000000  \n",
       "11           0.000000  \n",
       "12           0.000000  \n",
       "13           1.000000  \n",
       "14           0.000000  \n",
       "15           0.500000  \n",
       "16           0.000000  \n",
       "17           0.000000  \n",
       "18           0.000000  \n",
       "19           0.000000  \n",
       "20           1.000000  \n",
       "21           0.500000  \n",
       "22           0.000000  \n",
       "23           0.000000  \n",
       "24           0.000000  \n",
       "25           0.000000  \n",
       "26           0.000000  \n",
       "27           0.000000  \n",
       "28           0.000000  \n",
       "29           0.000000  "
      ]
     },
     "execution_count": 86,
     "metadata": {},
     "output_type": "execute_result"
    }
   ],
   "source": [
    "cp_results_df"
   ]
  },
  {
   "cell_type": "code",
   "execution_count": 93,
   "id": "5d93712f",
   "metadata": {},
   "outputs": [
    {
     "name": "stdout",
     "output_type": "stream",
     "text": [
      "Personal credit card for business expenses\n",
      "------------------------------------------------------------\n",
      "[\"Early on, one might not be able to get credit for their business. For convenience, and the card perks, it makes sense to use the personal card. But for sake of a clean paper trail, I'd choose 1 card and use it exclusively, 100% for the business. Not one card here, one card there.\"\n",
      " \"Do you have a separate bank account for your business?  That is generally highly recommended. I have a credit card for my single-member LLC.  I prefer it this way because it makes the separation of personal and business expenses very clear. Using a personal credit card, but using it for only business expenses seems to be a reasonable practice.  You may be able to do one better though... For your sole proprietorship, you can file a DBA which establishes the business name.  The details of this depend on your state.  With a DBA, I believe you can open a bank account in the name of your business and you may also be able to open a credit card account in the name of the business.  I'm not sure what practical difference it makes, but it does make the personal/business distinction clearer.  Though, at that point, you might as well just do the LLC...\"\n",
      " \"You should be careful about mingling your personal money and that of the business, even if it is a sole prop right now.  It is a good habit to keep separate business and personal bank/credit accounts just so that when you change to an LLC, it is simpler for you to separate what belongs to the company and what is yours personally.  What you're doing makes it more difficult (although only marginally so) to itemize business deductions that were paid with an ostensibly personal credit account.  The better habit to get into now is keeping that distinct separation between personal and business. That being said, there's nothing illegal in what you're doing, but it would make an accountant cringe, that's for sure. (chuckle) Hope this helps. Good luck!\"\n",
      " \"If you are just starting out, I would say there is no disadvantage to using a personal card for business expenses. In fact, the advantage of doing so is that the consumer protections are better on personal cards than on business cards.  One possible advantage to business credit cards, is that many (but not all) will not show up on your personal credit report unless you default. This might help with average age of accounts if you have a thin credit file, but otherwise it won't make much difference. Issuers also expect higher charge volumes on business cards, so as your business grows might question a lot of heavy charges on a personal card. Whether this would ever happen is speculation, but it's worth being aware of it.\"]\n",
      "------------------------------------------------------------\n",
      "Based on the given contexts, it is suggested to ask for a credit card specifically for business and travel expenses. This will help differentiate these expenses from income when dealing with the IRS and the state. However, it is important to still submit receipts for these expenses. Additionally, it is advised to keep pay stubs or pdf files with YTD numbers to ensure that expenses are not being sneaked in as income. In the future, if the company continues to use this method, it may be worth discussing ownership of the purchased items since the taxes are being paid.\n",
      "------------------------------------------------------------\n",
      "['\"What they are doing is wrong. The IRS and the state might not be happy with what they are doing.  One thing you can ask for them to do is to give you a credit card for business and travel expenses. You will still have to submit receipts for expenses, but it will also make it clear to the IRS that these checks are not income. Keep the pay stubs for the year, or the pdf files if they don\\'t give you a physical stub. Pay attention to the YTD numbers on each stub to make sure they aren\\'t sneaking in the expenses as income. If they continue to do this, ask about ownership of the items purchased, since you will be paying the tax shouldn\\'t you own it?  You can in the future tell them \"\"I was going to buy X like the customer wanted, but I just bought a new washer at home and their wasn\\'t enough room on the credit card. Maybe next month\"\"\"'\n",
      " \"Honestly, if you're going to restrict the online payment on your card over this, you may as well just restrict it permanently. Because this is definitely not the only time anyone has had an opportunity to retrieve the information on your card. There isn't really that much information on there - anyone taking more than a cursory look could in theory remember it and use it. We're talking waiters and checkout chicks, anytime you've given your card to anyone really. Banks know this. Credit card numbers are not really secure. They factor this in. And they  have software for fraud detection - looking at large or unusual transactions and transactions in foreign countries etc. Of course it's not fool proof, but the best thing you can do isn't to cripple your card, but just be a little bit more diligent about checking your statements, making sure the transactions make sense. Some banks also allow you to set up an alert system so anytime any transactions occur you are notified immediately.\"\n",
      " \"You are in business for yourself. You file Schedule C with your income tax return, and can deduct the business expenses and the cost of goods sold from the gross receipts of your business. If you have inventory (things bought but not yet sold by the end of the year of purchase), then there are other calculations that need to be done.  You will have to pay income tax as well as Social Security and Medicare taxes (both the employee's share and the employer's share) on the net profits from this business activity.\"]\n"
     ]
    }
   ],
   "source": [
    "# Print the first 'question'\n",
    "print(cp_results_df['question'][13])\n",
    "\n",
    "print(\"-\"*60)\n",
    "\n",
    "# Print the first 'question'\n",
    "print(cp_results_df['ground_truths'][13])\n",
    "\n",
    "print(\"-\"*60)\n",
    "\n",
    "# Print the first 'question'\n",
    "print(cp_results_df['answer'][13])\n",
    "\n",
    "print(\"-\"*60)\n",
    "\n",
    "# Print the first 'contexts'\n",
    "print(cp_results_df['contexts'][13])"
   ]
  },
  {
   "cell_type": "code",
   "execution_count": null,
   "id": "153fe826",
   "metadata": {},
   "outputs": [],
   "source": []
  }
 ],
 "metadata": {
  "kernelspec": {
   "display_name": "Python 3 (ipykernel)",
   "language": "python",
   "name": "python3"
  },
  "language_info": {
   "codemirror_mode": {
    "name": "ipython",
    "version": 3
   },
   "file_extension": ".py",
   "mimetype": "text/x-python",
   "name": "python",
   "nbconvert_exporter": "python",
   "pygments_lexer": "ipython3",
   "version": "3.11.5"
  }
 },
 "nbformat": 4,
 "nbformat_minor": 5
}
