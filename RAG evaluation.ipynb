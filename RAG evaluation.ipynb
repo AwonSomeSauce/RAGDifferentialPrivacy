{
 "cells": [
  {
   "cell_type": "code",
   "execution_count": 1,
   "id": "4a203068",
   "metadata": {},
   "outputs": [
    {
     "name": "stdout",
     "output_type": "stream",
     "text": [
      "✅ In Answer Relevance, input prompt will be set to __record__.main_input or `Select.RecordInput` .\n",
      "✅ In Answer Relevance, input response will be set to __record__.main_output or `Select.RecordOutput` .\n",
      "✅ In Context Relevance, input prompt will be set to __record__.main_input or `Select.RecordInput` .\n",
      "✅ In Context Relevance, input response will be set to __record__.app.query.rets.source_nodes[:].node.text .\n",
      "✅ In Groundedness, input source will be set to __record__.app.query.rets.source_nodes[:].node.text .\n",
      "✅ In Groundedness, input statement will be set to __record__.main_output or `Select.RecordOutput` .\n"
     ]
    }
   ],
   "source": [
    "import json\n",
    "import pandas as pd\n",
    "from llama_index import Document\n",
    "from llama_index import VectorStoreIndex\n",
    "from llama_index import ServiceContext\n",
    "from llama_index.llms import OpenAI\n",
    "from trulens_eval import Tru\n",
    "from utils import get_prebuilt_trulens_recorder"
   ]
  },
  {
   "cell_type": "code",
   "execution_count": 2,
   "id": "88486eee",
   "metadata": {},
   "outputs": [],
   "source": [
    "def get_results(answer_relevance, context_relevance, groundedness):\n",
    "    # Calculate and print the average for each specified column\n",
    "    average_answer_relevance = answer_relevance.mean()\n",
    "    average_context_relevance = context_relevance.mean()\n",
    "    average_groundedness = groundedness.mean()\n",
    "\n",
    "    return average_answer_relevance, average_context_relevance, average_groundedness"
   ]
  },
  {
   "cell_type": "code",
   "execution_count": 3,
   "id": "ace9f9a8",
   "metadata": {},
   "outputs": [],
   "source": [
    "file_path = \"echr_train.json\"\n",
    "\n",
    "# Read the JSON file\n",
    "with open(file_path, \"r\") as file:\n",
    "    data = json.load(file)\n",
    "\n",
    "# Extract 'text' values\n",
    "text_values = [item[\"text\"] for item in data if \"text\" in item]\n",
    "\n",
    "# Create a DataFrame\n",
    "tab_df = pd.DataFrame(text_values, columns=[\"sentence\"]).head(20)"
   ]
  },
  {
   "cell_type": "code",
   "execution_count": 3,
   "id": "e4018a84",
   "metadata": {},
   "outputs": [
    {
     "name": "stdout",
     "output_type": "stream",
     "text": [
      "🦑 Tru initialized with db url sqlite:///default.sqlite .\n",
      "🛑 Secret keys may be written to the database. See the `database_redact_keys` option of `Tru` to prevent this.\n"
     ]
    }
   ],
   "source": [
    "document = Document(text=\"\\n\\n\".join([doc for doc in tab_df[\"sentence\"]]))\n",
    "\n",
    "llm = OpenAI(model=\"gpt-4-1106-preview\", temperature=0.1)\n",
    "service_context = ServiceContext.from_defaults(\n",
    "    llm=llm, embed_model=\"local:BAAI/bge-small-en-v1.5\"\n",
    ")\n",
    "index = VectorStoreIndex.from_documents([document], service_context=service_context)\n",
    "query_engine = index.as_query_engine()\n",
    "tru = Tru()\n",
    "\n",
    "tru.reset_database()\n",
    "tru_recorder = get_prebuilt_trulens_recorder(query_engine, app_id=\"Unsanitized\")\n",
    "\n",
    "eval_questions = []\n",
    "with open(\"tab_eval_questions.txt\", \"r\") as file:\n",
    "    for line in file:\n",
    "        # Remove newline character and convert to integer\n",
    "        item = line.strip()\n",
    "        eval_questions.append(item)"
   ]
  },
  {
   "cell_type": "code",
   "execution_count": 4,
   "id": "cb2bebe5",
   "metadata": {},
   "outputs": [
    {
     "name": "stdout",
     "output_type": "stream",
     "text": [
      "huggingface/tokenizers: The current process just got forked, after parallelism has already been used. Disabling parallelism to avoid deadlocks...\n",
      "To disable this warning, you can either:\n",
      "\t- Avoid using `tokenizers` before the fork if possible\n",
      "\t- Explicitly set the environment variable TOKENIZERS_PARALLELISM=(true | false)\n",
      "huggingface/tokenizers: The current process just got forked, after parallelism has already been used. Disabling parallelism to avoid deadlocks...\n",
      "To disable this warning, you can either:\n",
      "\t- Avoid using `tokenizers` before the fork if possible\n",
      "\t- Explicitly set the environment variable TOKENIZERS_PARALLELISM=(true | false)\n",
      "huggingface/tokenizers: The current process just got forked, after parallelism has already been used. Disabling parallelism to avoid deadlocks...\n",
      "To disable this warning, you can either:\n",
      "\t- Avoid using `tokenizers` before the fork if possible\n",
      "\t- Explicitly set the environment variable TOKENIZERS_PARALLELISM=(true | false)\n"
     ]
    }
   ],
   "source": [
    "with tru_recorder as recording:\n",
    "    for question in eval_questions:\n",
    "        response = query_engine.query(question)\n",
    "\n",
    "records, feedback = tru.get_records_and_feedback(app_ids=[])\n",
    "average_answer_relevance, average_context_relevance, average_groundedness = get_results(\n",
    "    records[\"Answer Relevance\"], records[\"Context Relevance\"], records[\"Groundedness\"]\n",
    ")"
   ]
  },
  {
   "cell_type": "code",
   "execution_count": 5,
   "id": "df27ef95",
   "metadata": {},
   "outputs": [
    {
     "name": "stdout",
     "output_type": "stream",
     "text": [
      "Average Answer Relevance: 0.9645569620253165\n",
      "Average Context Relevance: 0.12784810126582277\n",
      "Average Groundedness: 0.8549484642341786\n"
     ]
    }
   ],
   "source": [
    "# Print the averages\n",
    "print(\"Average Answer Relevance:\", average_answer_relevance)\n",
    "print(\"Average Context Relevance:\", average_context_relevance)\n",
    "print(\"Average Groundedness:\", average_groundedness)"
   ]
  },
  {
   "cell_type": "markdown",
   "id": "85940d22",
   "metadata": {},
   "source": [
    "## SanText"
   ]
  },
  {
   "cell_type": "code",
   "execution_count": 15,
   "id": "c992969a",
   "metadata": {},
   "outputs": [],
   "source": [
    "santext_sanitized = pd.read_csv(\"SanText.csv\", usecols=['sanitized sentence'])\n",
    "santext_sanitized = santext_sanitized.rename(columns={\"sanitized sentence\": \"sentence\"})"
   ]
  },
  {
   "cell_type": "code",
   "execution_count": 17,
   "id": "1a6ddfb5",
   "metadata": {},
   "outputs": [
    {
     "name": "stdout",
     "output_type": "stream",
     "text": [
      "🦑 Tru initialized with db url sqlite:///default.sqlite .\n",
      "🛑 Secret keys may be written to the database. See the `database_redact_keys` option of `Tru` to prevent this.\n"
     ]
    }
   ],
   "source": [
    "document = Document(text=\"\\n\\n\".join([doc for doc in santext_sanitized[\"sentence\"]]))\n",
    "\n",
    "llm = OpenAI(model=\"gpt-4-1106-preview\", temperature=0.1)\n",
    "service_context = ServiceContext.from_defaults(\n",
    "    llm=llm, embed_model=\"local:BAAI/bge-small-en-v1.5\"\n",
    ")\n",
    "index = VectorStoreIndex.from_documents([document], service_context=service_context)\n",
    "query_engine = index.as_query_engine()\n",
    "tru = Tru()\n",
    "\n",
    "tru.reset_database()\n",
    "tru_recorder = get_prebuilt_trulens_recorder(query_engine, app_id=\"Unsanitized\")\n",
    "\n",
    "eval_questions = []\n",
    "with open(\"tab_eval_questions.txt\", \"r\") as file:\n",
    "    for line in file:\n",
    "        # Remove newline character and convert to integer\n",
    "        item = line.strip()\n",
    "        eval_questions.append(item)"
   ]
  },
  {
   "cell_type": "code",
   "execution_count": 18,
   "id": "48806622",
   "metadata": {},
   "outputs": [
    {
     "name": "stdout",
     "output_type": "stream",
     "text": [
      "huggingface/tokenizers: The current process just got forked, after parallelism has already been used. Disabling parallelism to avoid deadlocks...\n",
      "To disable this warning, you can either:\n",
      "\t- Avoid using `tokenizers` before the fork if possible\n",
      "\t- Explicitly set the environment variable TOKENIZERS_PARALLELISM=(true | false)\n",
      "huggingface/tokenizers: The current process just got forked, after parallelism has already been used. Disabling parallelism to avoid deadlocks...\n",
      "To disable this warning, you can either:\n",
      "\t- Avoid using `tokenizers` before the fork if possible\n",
      "\t- Explicitly set the environment variable TOKENIZERS_PARALLELISM=(true | false)\n",
      "huggingface/tokenizers: The current process just got forked, after parallelism has already been used. Disabling parallelism to avoid deadlocks...\n",
      "To disable this warning, you can either:\n",
      "\t- Avoid using `tokenizers` before the fork if possible\n",
      "\t- Explicitly set the environment variable TOKENIZERS_PARALLELISM=(true | false)\n"
     ]
    }
   ],
   "source": [
    "with tru_recorder as recording:\n",
    "    for question in eval_questions:\n",
    "        response = query_engine.query(question)\n",
    "\n",
    "records, feedback = tru.get_records_and_feedback(app_ids=[])\n",
    "average_answer_relevance, average_context_relevance, average_groundedness = get_results(\n",
    "    records[\"Answer Relevance\"], records[\"Context Relevance\"], records[\"Groundedness\"]\n",
    ")"
   ]
  },
  {
   "cell_type": "code",
   "execution_count": 19,
   "id": "f8201c03",
   "metadata": {},
   "outputs": [
    {
     "name": "stdout",
     "output_type": "stream",
     "text": [
      "Average Answer Relevance: 0.9227848101265823\n",
      "Average Context Relevance: 0.0\n",
      "Average Groundedness: 0.25665445665445663\n"
     ]
    }
   ],
   "source": [
    "# Print the averages\n",
    "print(\"Average Answer Relevance:\", average_answer_relevance)\n",
    "print(\"Average Context Relevance:\", average_context_relevance)\n",
    "print(\"Average Groundedness:\", average_groundedness)"
   ]
  },
  {
   "cell_type": "markdown",
   "id": "310486ff",
   "metadata": {},
   "source": [
    "## CusText"
   ]
  },
  {
   "cell_type": "code",
   "execution_count": 20,
   "id": "9781b5d4",
   "metadata": {},
   "outputs": [],
   "source": [
    "custext_sanitized = pd.read_csv(\"CusText.csv\", usecols=['sanitized sentence'])\n",
    "custext_sanitized = custext_sanitized.rename(columns={\"sanitized sentence\": \"sentence\"})\n",
    "document = Document(text=\"\\n\\n\".join([doc for doc in custext_sanitized[\"sentence\"]]))\n",
    "\n",
    "llm = OpenAI(model=\"gpt-4-1106-preview\", temperature=0.1)\n",
    "service_context = ServiceContext.from_defaults(\n",
    "    llm=llm, embed_model=\"local:BAAI/bge-small-en-v1.5\"\n",
    ")\n",
    "index = VectorStoreIndex.from_documents([document], service_context=service_context)\n",
    "query_engine = index.as_query_engine()\n",
    "tru = Tru()\n",
    "\n",
    "tru.reset_database()\n",
    "tru_recorder = get_prebuilt_trulens_recorder(query_engine, app_id=\"Unsanitized\")\n",
    "\n",
    "eval_questions = []\n",
    "with open(\"tab_eval_questions.txt\", \"r\") as file:\n",
    "    for line in file:\n",
    "        # Remove newline character and convert to integer\n",
    "        item = line.strip()\n",
    "        eval_questions.append(item)"
   ]
  },
  {
   "cell_type": "code",
   "execution_count": 21,
   "id": "3056c69f",
   "metadata": {},
   "outputs": [
    {
     "name": "stdout",
     "output_type": "stream",
     "text": [
      "huggingface/tokenizers: The current process just got forked, after parallelism has already been used. Disabling parallelism to avoid deadlocks...\n",
      "To disable this warning, you can either:\n",
      "\t- Avoid using `tokenizers` before the fork if possible\n",
      "\t- Explicitly set the environment variable TOKENIZERS_PARALLELISM=(true | false)\n"
     ]
    }
   ],
   "source": [
    "with tru_recorder as recording:\n",
    "    for question in eval_questions:\n",
    "        response = query_engine.query(question)\n",
    "\n",
    "records, feedback = tru.get_records_and_feedback(app_ids=[])\n",
    "average_answer_relevance, average_context_relevance, average_groundedness = get_results(\n",
    "    records[\"Answer Relevance\"], records[\"Context Relevance\"], records[\"Groundedness\"]\n",
    ")"
   ]
  },
  {
   "cell_type": "code",
   "execution_count": 22,
   "id": "900b5404",
   "metadata": {},
   "outputs": [
    {
     "name": "stdout",
     "output_type": "stream",
     "text": [
      "Average Answer Relevance: 0.9253164556962025\n",
      "Average Context Relevance: 0.0\n",
      "Average Groundedness: 0.3099780701754386\n"
     ]
    }
   ],
   "source": [
    "# Print the averages\n",
    "print(\"Average Answer Relevance:\", average_answer_relevance)\n",
    "print(\"Average Context Relevance:\", average_context_relevance)\n",
    "print(\"Average Groundedness:\", average_groundedness)"
   ]
  },
  {
   "cell_type": "markdown",
   "id": "e17d5e51",
   "metadata": {},
   "source": [
    "## SanText + Presidio"
   ]
  },
  {
   "cell_type": "code",
   "execution_count": 4,
   "id": "a3d9c694",
   "metadata": {},
   "outputs": [
    {
     "name": "stdout",
     "output_type": "stream",
     "text": [
      "🦑 Tru initialized with db url sqlite:///default.sqlite .\n",
      "🛑 Secret keys may be written to the database. See the `database_redact_keys` option of `Tru` to prevent this.\n"
     ]
    }
   ],
   "source": [
    "santext_presidio_sanitized = pd.read_csv(\"SanText_Presidio.csv\", usecols=['sanitized sentence'])\n",
    "santext_presidio_sanitized = santext_presidio_sanitized.rename(columns={\"sanitized sentence\": \"sentence\"})\n",
    "document = Document(text=\"\\n\\n\".join([doc for doc in santext_presidio_sanitized[\"sentence\"]]))\n",
    "\n",
    "llm = OpenAI(model=\"gpt-4-1106-preview\", temperature=0.1)\n",
    "service_context = ServiceContext.from_defaults(\n",
    "    llm=llm, embed_model=\"local:BAAI/bge-small-en-v1.5\"\n",
    ")\n",
    "index = VectorStoreIndex.from_documents([document], service_context=service_context)\n",
    "query_engine = index.as_query_engine()\n",
    "tru = Tru()\n",
    "\n",
    "tru.reset_database()\n",
    "tru_recorder = get_prebuilt_trulens_recorder(query_engine, app_id=\"Unsanitized\")\n",
    "\n",
    "eval_questions = []\n",
    "with open(\"tab_eval_questions.txt\", \"r\") as file:\n",
    "    for line in file:\n",
    "        # Remove newline character and convert to integer\n",
    "        item = line.strip()\n",
    "        eval_questions.append(item)"
   ]
  },
  {
   "cell_type": "code",
   "execution_count": 5,
   "id": "d5ccfa6c",
   "metadata": {},
   "outputs": [
    {
     "name": "stdout",
     "output_type": "stream",
     "text": [
      "huggingface/tokenizers: The current process just got forked, after parallelism has already been used. Disabling parallelism to avoid deadlocks...\n",
      "To disable this warning, you can either:\n",
      "\t- Avoid using `tokenizers` before the fork if possible\n",
      "\t- Explicitly set the environment variable TOKENIZERS_PARALLELISM=(true | false)\n",
      "huggingface/tokenizers: The current process just got forked, after parallelism has already been used. Disabling parallelism to avoid deadlocks...\n",
      "To disable this warning, you can either:\n",
      "\t- Avoid using `tokenizers` before the fork if possible\n",
      "\t- Explicitly set the environment variable TOKENIZERS_PARALLELISM=(true | false)\n"
     ]
    }
   ],
   "source": [
    "with tru_recorder as recording:\n",
    "    for question in eval_questions:\n",
    "        response = query_engine.query(question)\n",
    "\n",
    "records, feedback = tru.get_records_and_feedback(app_ids=[])\n",
    "average_answer_relevance, average_context_relevance, average_groundedness = get_results(\n",
    "    records[\"Answer Relevance\"], records[\"Context Relevance\"], records[\"Groundedness\"]\n",
    ")"
   ]
  },
  {
   "cell_type": "code",
   "execution_count": 6,
   "id": "5d9e006c",
   "metadata": {},
   "outputs": [
    {
     "name": "stdout",
     "output_type": "stream",
     "text": [
      "Average Answer Relevance: 0.929113924050633\n",
      "Average Context Relevance: 0.00949367088607595\n",
      "Average Groundedness: 0.32742616033755273\n"
     ]
    }
   ],
   "source": [
    "# Print the averages\n",
    "print(\"Average Answer Relevance:\", average_answer_relevance)\n",
    "print(\"Average Context Relevance:\", average_context_relevance)\n",
    "print(\"Average Groundedness:\", average_groundedness)"
   ]
  },
  {
   "cell_type": "code",
   "execution_count": 8,
   "id": "c367b7e5",
   "metadata": {},
   "outputs": [],
   "source": [
    "records.to_csv(\"SanText_Presidio_Eval.csv\")"
   ]
  },
  {
   "cell_type": "markdown",
   "id": "4008a8d3",
   "metadata": {},
   "source": [
    "## CusText + Presidio"
   ]
  },
  {
   "cell_type": "code",
   "execution_count": 9,
   "id": "60abf1f9",
   "metadata": {},
   "outputs": [],
   "source": [
    "custext_presidio_sanitized = pd.read_csv(\"CusText_Presidio.csv\", usecols=['sanitized sentence'])\n",
    "custext_presidio_sanitized = custext_presidio_sanitized.rename(columns={\"sanitized sentence\": \"sentence\"})\n",
    "document = Document(text=\"\\n\\n\".join([doc for doc in custext_presidio_sanitized[\"sentence\"]]))\n",
    "\n",
    "llm = OpenAI(model=\"gpt-4-1106-preview\", temperature=0.1)\n",
    "service_context = ServiceContext.from_defaults(\n",
    "    llm=llm, embed_model=\"local:BAAI/bge-small-en-v1.5\"\n",
    ")\n",
    "index = VectorStoreIndex.from_documents([document], service_context=service_context)\n",
    "query_engine = index.as_query_engine()\n",
    "tru = Tru()\n",
    "\n",
    "tru.reset_database()\n",
    "tru_recorder = get_prebuilt_trulens_recorder(query_engine, app_id=\"Unsanitized\")\n",
    "\n",
    "eval_questions = []\n",
    "with open(\"tab_eval_questions.txt\", \"r\") as file:\n",
    "    for line in file:\n",
    "        # Remove newline character and convert to integer\n",
    "        item = line.strip()\n",
    "        eval_questions.append(item)"
   ]
  },
  {
   "cell_type": "code",
   "execution_count": 10,
   "id": "eee46da3",
   "metadata": {},
   "outputs": [
    {
     "name": "stderr",
     "output_type": "stream",
     "text": [
      "A new object of type <class 'llama_index.query_engine.retriever_query_engine.RetrieverQueryEngine'> at 0x15c1d8990 is calling an instrumented method <function BaseQueryEngine.query at 0x13c30cb80>. The path of this call may be incorrect.\n",
      "Guessing path of new object is app based on other object (0x15c0ce050) using this function.\n",
      "A new object of type <class 'llama_index.query_engine.retriever_query_engine.RetrieverQueryEngine'> at 0x15c1d8990 is calling an instrumented method <function RetrieverQueryEngine.retrieve at 0x169b585e0>. The path of this call may be incorrect.\n",
      "Guessing path of new object is app based on other object (0x15c0ce050) using this function.\n",
      "A new object of type <class 'llama_index.indices.vector_store.retrievers.retriever.VectorIndexRetriever'> at 0x15c169d50 is calling an instrumented method <function BaseRetriever.retrieve at 0x13c0f77e0>. The path of this call may be incorrect.\n",
      "Guessing path of new object is app.retriever based on other object (0x15c167610) using this function.\n",
      "A new object of type <class 'llama_index.response_synthesizers.compact_and_refine.CompactAndRefine'> at 0x15834d050 is calling an instrumented method <function CompactAndRefine.get_response at 0x13e821120>. The path of this call may be incorrect.\n",
      "Guessing path of new object is app._response_synthesizer based on other object (0x15c3e9710) using this function.\n",
      "A new object of type <class 'llama_index.response_synthesizers.compact_and_refine.CompactAndRefine'> at 0x15834d050 is calling an instrumented method <function Refine.get_response at 0x13eae8a40>. The path of this call may be incorrect.\n",
      "Guessing path of new object is app._response_synthesizer based on other object (0x15c3e9710) using this function.\n",
      "A new object of type <class 'llama_index.llm_predictor.base.LLMPredictor'> at 0x15c4bf610 is calling an instrumented method <function LLMPredictor.predict at 0x12ff011c0>. The path of this call may be incorrect.\n",
      "Guessing path of new object is app._response_synthesizer.service_context.llm_predictor based on other object (0x1698287d0) using this function.\n"
     ]
    },
    {
     "name": "stdout",
     "output_type": "stream",
     "text": [
      "huggingface/tokenizers: The current process just got forked, after parallelism has already been used. Disabling parallelism to avoid deadlocks...\n",
      "To disable this warning, you can either:\n",
      "\t- Avoid using `tokenizers` before the fork if possible\n",
      "\t- Explicitly set the environment variable TOKENIZERS_PARALLELISM=(true | false)\n"
     ]
    },
    {
     "name": "stderr",
     "output_type": "stream",
     "text": [
      "A new object of type <class 'llama_index.query_engine.retriever_query_engine.RetrieverQueryEngine'> at 0x15c1d8990 is calling an instrumented method <function RetrieverQueryEngine.retrieve at 0x169b585e0>. The path of this call may be incorrect.\n",
      "Guessing path of new object is app based on other object (0x15c0ce050) using this function.\n",
      "A new object of type <class 'llama_index.response_synthesizers.compact_and_refine.CompactAndRefine'> at 0x15834d050 is calling an instrumented method <function Refine.get_response at 0x13eae8a40>. The path of this call may be incorrect.\n",
      "Guessing path of new object is app._response_synthesizer based on other object (0x15c3e9710) using this function.\n",
      "A new object of type <class 'llama_index.query_engine.retriever_query_engine.RetrieverQueryEngine'> at 0x15c1d8990 is calling an instrumented method <function RetrieverQueryEngine.retrieve at 0x169b585e0>. The path of this call may be incorrect.\n",
      "Guessing path of new object is app based on other object (0x15c0ce050) using this function.\n",
      "A new object of type <class 'llama_index.response_synthesizers.compact_and_refine.CompactAndRefine'> at 0x15834d050 is calling an instrumented method <function Refine.get_response at 0x13eae8a40>. The path of this call may be incorrect.\n",
      "Guessing path of new object is app._response_synthesizer based on other object (0x15c3e9710) using this function.\n",
      "A new object of type <class 'llama_index.query_engine.retriever_query_engine.RetrieverQueryEngine'> at 0x15c1d8990 is calling an instrumented method <function RetrieverQueryEngine.retrieve at 0x169b585e0>. The path of this call may be incorrect.\n",
      "Guessing path of new object is app based on other object (0x15c0ce050) using this function.\n",
      "A new object of type <class 'llama_index.response_synthesizers.compact_and_refine.CompactAndRefine'> at 0x15834d050 is calling an instrumented method <function Refine.get_response at 0x13eae8a40>. The path of this call may be incorrect.\n",
      "Guessing path of new object is app._response_synthesizer based on other object (0x15c3e9710) using this function.\n",
      "A new object of type <class 'llama_index.query_engine.retriever_query_engine.RetrieverQueryEngine'> at 0x15c1d8990 is calling an instrumented method <function RetrieverQueryEngine.retrieve at 0x169b585e0>. The path of this call may be incorrect.\n",
      "Guessing path of new object is app based on other object (0x15c0ce050) using this function.\n",
      "A new object of type <class 'llama_index.response_synthesizers.compact_and_refine.CompactAndRefine'> at 0x15834d050 is calling an instrumented method <function Refine.get_response at 0x13eae8a40>. The path of this call may be incorrect.\n",
      "Guessing path of new object is app._response_synthesizer based on other object (0x15c3e9710) using this function.\n",
      "A new object of type <class 'llama_index.query_engine.retriever_query_engine.RetrieverQueryEngine'> at 0x15c1d8990 is calling an instrumented method <function RetrieverQueryEngine.retrieve at 0x169b585e0>. The path of this call may be incorrect.\n",
      "Guessing path of new object is app based on other object (0x15c0ce050) using this function.\n",
      "A new object of type <class 'llama_index.response_synthesizers.compact_and_refine.CompactAndRefine'> at 0x15834d050 is calling an instrumented method <function Refine.get_response at 0x13eae8a40>. The path of this call may be incorrect.\n",
      "Guessing path of new object is app._response_synthesizer based on other object (0x15c3e9710) using this function.\n",
      "A new object of type <class 'llama_index.query_engine.retriever_query_engine.RetrieverQueryEngine'> at 0x15c1d8990 is calling an instrumented method <function RetrieverQueryEngine.retrieve at 0x169b585e0>. The path of this call may be incorrect.\n",
      "Guessing path of new object is app based on other object (0x15c0ce050) using this function.\n",
      "A new object of type <class 'llama_index.response_synthesizers.compact_and_refine.CompactAndRefine'> at 0x15834d050 is calling an instrumented method <function Refine.get_response at 0x13eae8a40>. The path of this call may be incorrect.\n",
      "Guessing path of new object is app._response_synthesizer based on other object (0x15c3e9710) using this function.\n",
      "A new object of type <class 'llama_index.query_engine.retriever_query_engine.RetrieverQueryEngine'> at 0x15c1d8990 is calling an instrumented method <function RetrieverQueryEngine.retrieve at 0x169b585e0>. The path of this call may be incorrect.\n",
      "Guessing path of new object is app based on other object (0x15c0ce050) using this function.\n",
      "A new object of type <class 'llama_index.response_synthesizers.compact_and_refine.CompactAndRefine'> at 0x15834d050 is calling an instrumented method <function Refine.get_response at 0x13eae8a40>. The path of this call may be incorrect.\n",
      "Guessing path of new object is app._response_synthesizer based on other object (0x15c3e9710) using this function.\n",
      "A new object of type <class 'llama_index.query_engine.retriever_query_engine.RetrieverQueryEngine'> at 0x15c1d8990 is calling an instrumented method <function RetrieverQueryEngine.retrieve at 0x169b585e0>. The path of this call may be incorrect.\n",
      "Guessing path of new object is app based on other object (0x15c0ce050) using this function.\n",
      "A new object of type <class 'llama_index.response_synthesizers.compact_and_refine.CompactAndRefine'> at 0x15834d050 is calling an instrumented method <function Refine.get_response at 0x13eae8a40>. The path of this call may be incorrect.\n",
      "Guessing path of new object is app._response_synthesizer based on other object (0x15c3e9710) using this function.\n",
      "A new object of type <class 'llama_index.query_engine.retriever_query_engine.RetrieverQueryEngine'> at 0x15c1d8990 is calling an instrumented method <function RetrieverQueryEngine.retrieve at 0x169b585e0>. The path of this call may be incorrect.\n",
      "Guessing path of new object is app based on other object (0x15c0ce050) using this function.\n",
      "A new object of type <class 'llama_index.response_synthesizers.compact_and_refine.CompactAndRefine'> at 0x15834d050 is calling an instrumented method <function Refine.get_response at 0x13eae8a40>. The path of this call may be incorrect.\n",
      "Guessing path of new object is app._response_synthesizer based on other object (0x15c3e9710) using this function.\n",
      "A new object of type <class 'llama_index.query_engine.retriever_query_engine.RetrieverQueryEngine'> at 0x15c1d8990 is calling an instrumented method <function RetrieverQueryEngine.retrieve at 0x169b585e0>. The path of this call may be incorrect.\n",
      "Guessing path of new object is app based on other object (0x15c0ce050) using this function.\n",
      "A new object of type <class 'llama_index.response_synthesizers.compact_and_refine.CompactAndRefine'> at 0x15834d050 is calling an instrumented method <function Refine.get_response at 0x13eae8a40>. The path of this call may be incorrect.\n",
      "Guessing path of new object is app._response_synthesizer based on other object (0x15c3e9710) using this function.\n",
      "A new object of type <class 'llama_index.query_engine.retriever_query_engine.RetrieverQueryEngine'> at 0x15c1d8990 is calling an instrumented method <function RetrieverQueryEngine.retrieve at 0x169b585e0>. The path of this call may be incorrect.\n",
      "Guessing path of new object is app based on other object (0x15c0ce050) using this function.\n",
      "A new object of type <class 'llama_index.response_synthesizers.compact_and_refine.CompactAndRefine'> at 0x15834d050 is calling an instrumented method <function Refine.get_response at 0x13eae8a40>. The path of this call may be incorrect.\n",
      "Guessing path of new object is app._response_synthesizer based on other object (0x15c3e9710) using this function.\n",
      "A new object of type <class 'llama_index.query_engine.retriever_query_engine.RetrieverQueryEngine'> at 0x15c1d8990 is calling an instrumented method <function RetrieverQueryEngine.retrieve at 0x169b585e0>. The path of this call may be incorrect.\n",
      "Guessing path of new object is app based on other object (0x15c0ce050) using this function.\n",
      "A new object of type <class 'llama_index.response_synthesizers.compact_and_refine.CompactAndRefine'> at 0x15834d050 is calling an instrumented method <function Refine.get_response at 0x13eae8a40>. The path of this call may be incorrect.\n",
      "Guessing path of new object is app._response_synthesizer based on other object (0x15c3e9710) using this function.\n"
     ]
    },
    {
     "name": "stderr",
     "output_type": "stream",
     "text": [
      "A new object of type <class 'llama_index.query_engine.retriever_query_engine.RetrieverQueryEngine'> at 0x15c1d8990 is calling an instrumented method <function RetrieverQueryEngine.retrieve at 0x169b585e0>. The path of this call may be incorrect.\n",
      "Guessing path of new object is app based on other object (0x15c0ce050) using this function.\n",
      "A new object of type <class 'llama_index.response_synthesizers.compact_and_refine.CompactAndRefine'> at 0x15834d050 is calling an instrumented method <function Refine.get_response at 0x13eae8a40>. The path of this call may be incorrect.\n",
      "Guessing path of new object is app._response_synthesizer based on other object (0x15c3e9710) using this function.\n",
      "A new object of type <class 'llama_index.query_engine.retriever_query_engine.RetrieverQueryEngine'> at 0x15c1d8990 is calling an instrumented method <function RetrieverQueryEngine.retrieve at 0x169b585e0>. The path of this call may be incorrect.\n",
      "Guessing path of new object is app based on other object (0x15c0ce050) using this function.\n",
      "A new object of type <class 'llama_index.response_synthesizers.compact_and_refine.CompactAndRefine'> at 0x15834d050 is calling an instrumented method <function Refine.get_response at 0x13eae8a40>. The path of this call may be incorrect.\n",
      "Guessing path of new object is app._response_synthesizer based on other object (0x15c3e9710) using this function.\n",
      "A new object of type <class 'llama_index.query_engine.retriever_query_engine.RetrieverQueryEngine'> at 0x15c1d8990 is calling an instrumented method <function RetrieverQueryEngine.retrieve at 0x169b585e0>. The path of this call may be incorrect.\n",
      "Guessing path of new object is app based on other object (0x15c0ce050) using this function.\n",
      "A new object of type <class 'llama_index.response_synthesizers.compact_and_refine.CompactAndRefine'> at 0x15834d050 is calling an instrumented method <function Refine.get_response at 0x13eae8a40>. The path of this call may be incorrect.\n",
      "Guessing path of new object is app._response_synthesizer based on other object (0x15c3e9710) using this function.\n",
      "A new object of type <class 'llama_index.query_engine.retriever_query_engine.RetrieverQueryEngine'> at 0x15c1d8990 is calling an instrumented method <function RetrieverQueryEngine.retrieve at 0x169b585e0>. The path of this call may be incorrect.\n",
      "Guessing path of new object is app based on other object (0x15c0ce050) using this function.\n",
      "A new object of type <class 'llama_index.response_synthesizers.compact_and_refine.CompactAndRefine'> at 0x15834d050 is calling an instrumented method <function Refine.get_response at 0x13eae8a40>. The path of this call may be incorrect.\n",
      "Guessing path of new object is app._response_synthesizer based on other object (0x15c3e9710) using this function.\n",
      "A new object of type <class 'llama_index.query_engine.retriever_query_engine.RetrieverQueryEngine'> at 0x15c1d8990 is calling an instrumented method <function RetrieverQueryEngine.retrieve at 0x169b585e0>. The path of this call may be incorrect.\n",
      "Guessing path of new object is app based on other object (0x15c0ce050) using this function.\n",
      "A new object of type <class 'llama_index.response_synthesizers.compact_and_refine.CompactAndRefine'> at 0x15834d050 is calling an instrumented method <function Refine.get_response at 0x13eae8a40>. The path of this call may be incorrect.\n",
      "Guessing path of new object is app._response_synthesizer based on other object (0x15c3e9710) using this function.\n",
      "A new object of type <class 'llama_index.query_engine.retriever_query_engine.RetrieverQueryEngine'> at 0x15c1d8990 is calling an instrumented method <function RetrieverQueryEngine.retrieve at 0x169b585e0>. The path of this call may be incorrect.\n",
      "Guessing path of new object is app based on other object (0x15c0ce050) using this function.\n",
      "A new object of type <class 'llama_index.response_synthesizers.compact_and_refine.CompactAndRefine'> at 0x15834d050 is calling an instrumented method <function Refine.get_response at 0x13eae8a40>. The path of this call may be incorrect.\n",
      "Guessing path of new object is app._response_synthesizer based on other object (0x15c3e9710) using this function.\n",
      "A new object of type <class 'llama_index.query_engine.retriever_query_engine.RetrieverQueryEngine'> at 0x15c1d8990 is calling an instrumented method <function RetrieverQueryEngine.retrieve at 0x169b585e0>. The path of this call may be incorrect.\n",
      "Guessing path of new object is app based on other object (0x15c0ce050) using this function.\n",
      "A new object of type <class 'llama_index.response_synthesizers.compact_and_refine.CompactAndRefine'> at 0x15834d050 is calling an instrumented method <function Refine.get_response at 0x13eae8a40>. The path of this call may be incorrect.\n",
      "Guessing path of new object is app._response_synthesizer based on other object (0x15c3e9710) using this function.\n",
      "A new object of type <class 'llama_index.query_engine.retriever_query_engine.RetrieverQueryEngine'> at 0x15c1d8990 is calling an instrumented method <function RetrieverQueryEngine.retrieve at 0x169b585e0>. The path of this call may be incorrect.\n",
      "Guessing path of new object is app based on other object (0x15c0ce050) using this function.\n",
      "A new object of type <class 'llama_index.response_synthesizers.compact_and_refine.CompactAndRefine'> at 0x15834d050 is calling an instrumented method <function Refine.get_response at 0x13eae8a40>. The path of this call may be incorrect.\n",
      "Guessing path of new object is app._response_synthesizer based on other object (0x15c3e9710) using this function.\n",
      "A new object of type <class 'llama_index.query_engine.retriever_query_engine.RetrieverQueryEngine'> at 0x15c1d8990 is calling an instrumented method <function RetrieverQueryEngine.retrieve at 0x169b585e0>. The path of this call may be incorrect.\n",
      "Guessing path of new object is app based on other object (0x15c0ce050) using this function.\n",
      "A new object of type <class 'llama_index.response_synthesizers.compact_and_refine.CompactAndRefine'> at 0x15834d050 is calling an instrumented method <function Refine.get_response at 0x13eae8a40>. The path of this call may be incorrect.\n",
      "Guessing path of new object is app._response_synthesizer based on other object (0x15c3e9710) using this function.\n",
      "A new object of type <class 'llama_index.query_engine.retriever_query_engine.RetrieverQueryEngine'> at 0x15c1d8990 is calling an instrumented method <function RetrieverQueryEngine.retrieve at 0x169b585e0>. The path of this call may be incorrect.\n",
      "Guessing path of new object is app based on other object (0x15c0ce050) using this function.\n",
      "A new object of type <class 'llama_index.response_synthesizers.compact_and_refine.CompactAndRefine'> at 0x15834d050 is calling an instrumented method <function Refine.get_response at 0x13eae8a40>. The path of this call may be incorrect.\n",
      "Guessing path of new object is app._response_synthesizer based on other object (0x15c3e9710) using this function.\n",
      "A new object of type <class 'llama_index.query_engine.retriever_query_engine.RetrieverQueryEngine'> at 0x15c1d8990 is calling an instrumented method <function RetrieverQueryEngine.retrieve at 0x169b585e0>. The path of this call may be incorrect.\n",
      "Guessing path of new object is app based on other object (0x15c0ce050) using this function.\n",
      "A new object of type <class 'llama_index.response_synthesizers.compact_and_refine.CompactAndRefine'> at 0x15834d050 is calling an instrumented method <function Refine.get_response at 0x13eae8a40>. The path of this call may be incorrect.\n",
      "Guessing path of new object is app._response_synthesizer based on other object (0x15c3e9710) using this function.\n",
      "A new object of type <class 'llama_index.query_engine.retriever_query_engine.RetrieverQueryEngine'> at 0x15c1d8990 is calling an instrumented method <function RetrieverQueryEngine.retrieve at 0x169b585e0>. The path of this call may be incorrect.\n",
      "Guessing path of new object is app based on other object (0x15c0ce050) using this function.\n",
      "A new object of type <class 'llama_index.response_synthesizers.compact_and_refine.CompactAndRefine'> at 0x15834d050 is calling an instrumented method <function Refine.get_response at 0x13eae8a40>. The path of this call may be incorrect.\n",
      "Guessing path of new object is app._response_synthesizer based on other object (0x15c3e9710) using this function.\n"
     ]
    },
    {
     "name": "stderr",
     "output_type": "stream",
     "text": [
      "A new object of type <class 'llama_index.query_engine.retriever_query_engine.RetrieverQueryEngine'> at 0x15c1d8990 is calling an instrumented method <function RetrieverQueryEngine.retrieve at 0x169b585e0>. The path of this call may be incorrect.\n",
      "Guessing path of new object is app based on other object (0x15c0ce050) using this function.\n",
      "A new object of type <class 'llama_index.response_synthesizers.compact_and_refine.CompactAndRefine'> at 0x15834d050 is calling an instrumented method <function Refine.get_response at 0x13eae8a40>. The path of this call may be incorrect.\n",
      "Guessing path of new object is app._response_synthesizer based on other object (0x15c3e9710) using this function.\n",
      "A new object of type <class 'llama_index.query_engine.retriever_query_engine.RetrieverQueryEngine'> at 0x15c1d8990 is calling an instrumented method <function RetrieverQueryEngine.retrieve at 0x169b585e0>. The path of this call may be incorrect.\n",
      "Guessing path of new object is app based on other object (0x15c0ce050) using this function.\n",
      "A new object of type <class 'llama_index.response_synthesizers.compact_and_refine.CompactAndRefine'> at 0x15834d050 is calling an instrumented method <function Refine.get_response at 0x13eae8a40>. The path of this call may be incorrect.\n",
      "Guessing path of new object is app._response_synthesizer based on other object (0x15c3e9710) using this function.\n",
      "A new object of type <class 'llama_index.query_engine.retriever_query_engine.RetrieverQueryEngine'> at 0x15c1d8990 is calling an instrumented method <function RetrieverQueryEngine.retrieve at 0x169b585e0>. The path of this call may be incorrect.\n",
      "Guessing path of new object is app based on other object (0x15c0ce050) using this function.\n",
      "A new object of type <class 'llama_index.response_synthesizers.compact_and_refine.CompactAndRefine'> at 0x15834d050 is calling an instrumented method <function Refine.get_response at 0x13eae8a40>. The path of this call may be incorrect.\n",
      "Guessing path of new object is app._response_synthesizer based on other object (0x15c3e9710) using this function.\n",
      "A new object of type <class 'llama_index.query_engine.retriever_query_engine.RetrieverQueryEngine'> at 0x15c1d8990 is calling an instrumented method <function RetrieverQueryEngine.retrieve at 0x169b585e0>. The path of this call may be incorrect.\n",
      "Guessing path of new object is app based on other object (0x15c0ce050) using this function.\n",
      "A new object of type <class 'llama_index.response_synthesizers.compact_and_refine.CompactAndRefine'> at 0x15834d050 is calling an instrumented method <function Refine.get_response at 0x13eae8a40>. The path of this call may be incorrect.\n",
      "Guessing path of new object is app._response_synthesizer based on other object (0x15c3e9710) using this function.\n",
      "A new object of type <class 'llama_index.query_engine.retriever_query_engine.RetrieverQueryEngine'> at 0x15c1d8990 is calling an instrumented method <function RetrieverQueryEngine.retrieve at 0x169b585e0>. The path of this call may be incorrect.\n",
      "Guessing path of new object is app based on other object (0x15c0ce050) using this function.\n",
      "A new object of type <class 'llama_index.response_synthesizers.compact_and_refine.CompactAndRefine'> at 0x15834d050 is calling an instrumented method <function Refine.get_response at 0x13eae8a40>. The path of this call may be incorrect.\n",
      "Guessing path of new object is app._response_synthesizer based on other object (0x15c3e9710) using this function.\n",
      "A new object of type <class 'llama_index.query_engine.retriever_query_engine.RetrieverQueryEngine'> at 0x15c1d8990 is calling an instrumented method <function RetrieverQueryEngine.retrieve at 0x169b585e0>. The path of this call may be incorrect.\n",
      "Guessing path of new object is app based on other object (0x15c0ce050) using this function.\n",
      "A new object of type <class 'llama_index.response_synthesizers.compact_and_refine.CompactAndRefine'> at 0x15834d050 is calling an instrumented method <function Refine.get_response at 0x13eae8a40>. The path of this call may be incorrect.\n",
      "Guessing path of new object is app._response_synthesizer based on other object (0x15c3e9710) using this function.\n",
      "A new object of type <class 'llama_index.query_engine.retriever_query_engine.RetrieverQueryEngine'> at 0x15c1d8990 is calling an instrumented method <function RetrieverQueryEngine.retrieve at 0x169b585e0>. The path of this call may be incorrect.\n",
      "Guessing path of new object is app based on other object (0x15c0ce050) using this function.\n",
      "A new object of type <class 'llama_index.response_synthesizers.compact_and_refine.CompactAndRefine'> at 0x15834d050 is calling an instrumented method <function Refine.get_response at 0x13eae8a40>. The path of this call may be incorrect.\n",
      "Guessing path of new object is app._response_synthesizer based on other object (0x15c3e9710) using this function.\n",
      "A new object of type <class 'llama_index.query_engine.retriever_query_engine.RetrieverQueryEngine'> at 0x15c1d8990 is calling an instrumented method <function RetrieverQueryEngine.retrieve at 0x169b585e0>. The path of this call may be incorrect.\n",
      "Guessing path of new object is app based on other object (0x15c0ce050) using this function.\n",
      "A new object of type <class 'llama_index.response_synthesizers.compact_and_refine.CompactAndRefine'> at 0x15834d050 is calling an instrumented method <function Refine.get_response at 0x13eae8a40>. The path of this call may be incorrect.\n",
      "Guessing path of new object is app._response_synthesizer based on other object (0x15c3e9710) using this function.\n",
      "A new object of type <class 'llama_index.query_engine.retriever_query_engine.RetrieverQueryEngine'> at 0x15c1d8990 is calling an instrumented method <function RetrieverQueryEngine.retrieve at 0x169b585e0>. The path of this call may be incorrect.\n",
      "Guessing path of new object is app based on other object (0x15c0ce050) using this function.\n",
      "A new object of type <class 'llama_index.response_synthesizers.compact_and_refine.CompactAndRefine'> at 0x15834d050 is calling an instrumented method <function Refine.get_response at 0x13eae8a40>. The path of this call may be incorrect.\n",
      "Guessing path of new object is app._response_synthesizer based on other object (0x15c3e9710) using this function.\n",
      "A new object of type <class 'llama_index.query_engine.retriever_query_engine.RetrieverQueryEngine'> at 0x15c1d8990 is calling an instrumented method <function RetrieverQueryEngine.retrieve at 0x169b585e0>. The path of this call may be incorrect.\n",
      "Guessing path of new object is app based on other object (0x15c0ce050) using this function.\n",
      "A new object of type <class 'llama_index.response_synthesizers.compact_and_refine.CompactAndRefine'> at 0x15834d050 is calling an instrumented method <function Refine.get_response at 0x13eae8a40>. The path of this call may be incorrect.\n",
      "Guessing path of new object is app._response_synthesizer based on other object (0x15c3e9710) using this function.\n",
      "A new object of type <class 'llama_index.query_engine.retriever_query_engine.RetrieverQueryEngine'> at 0x15c1d8990 is calling an instrumented method <function RetrieverQueryEngine.retrieve at 0x169b585e0>. The path of this call may be incorrect.\n",
      "Guessing path of new object is app based on other object (0x15c0ce050) using this function.\n",
      "A new object of type <class 'llama_index.response_synthesizers.compact_and_refine.CompactAndRefine'> at 0x15834d050 is calling an instrumented method <function Refine.get_response at 0x13eae8a40>. The path of this call may be incorrect.\n",
      "Guessing path of new object is app._response_synthesizer based on other object (0x15c3e9710) using this function.\n",
      "A new object of type <class 'llama_index.query_engine.retriever_query_engine.RetrieverQueryEngine'> at 0x15c1d8990 is calling an instrumented method <function RetrieverQueryEngine.retrieve at 0x169b585e0>. The path of this call may be incorrect.\n",
      "Guessing path of new object is app based on other object (0x15c0ce050) using this function.\n",
      "A new object of type <class 'llama_index.response_synthesizers.compact_and_refine.CompactAndRefine'> at 0x15834d050 is calling an instrumented method <function Refine.get_response at 0x13eae8a40>. The path of this call may be incorrect.\n",
      "Guessing path of new object is app._response_synthesizer based on other object (0x15c3e9710) using this function.\n"
     ]
    },
    {
     "name": "stderr",
     "output_type": "stream",
     "text": [
      "A new object of type <class 'llama_index.query_engine.retriever_query_engine.RetrieverQueryEngine'> at 0x15c1d8990 is calling an instrumented method <function RetrieverQueryEngine.retrieve at 0x169b585e0>. The path of this call may be incorrect.\n",
      "Guessing path of new object is app based on other object (0x15c0ce050) using this function.\n",
      "A new object of type <class 'llama_index.response_synthesizers.compact_and_refine.CompactAndRefine'> at 0x15834d050 is calling an instrumented method <function Refine.get_response at 0x13eae8a40>. The path of this call may be incorrect.\n",
      "Guessing path of new object is app._response_synthesizer based on other object (0x15c3e9710) using this function.\n",
      "A new object of type <class 'llama_index.query_engine.retriever_query_engine.RetrieverQueryEngine'> at 0x15c1d8990 is calling an instrumented method <function RetrieverQueryEngine.retrieve at 0x169b585e0>. The path of this call may be incorrect.\n",
      "Guessing path of new object is app based on other object (0x15c0ce050) using this function.\n",
      "A new object of type <class 'llama_index.response_synthesizers.compact_and_refine.CompactAndRefine'> at 0x15834d050 is calling an instrumented method <function Refine.get_response at 0x13eae8a40>. The path of this call may be incorrect.\n",
      "Guessing path of new object is app._response_synthesizer based on other object (0x15c3e9710) using this function.\n",
      "A new object of type <class 'llama_index.query_engine.retriever_query_engine.RetrieverQueryEngine'> at 0x15c1d8990 is calling an instrumented method <function RetrieverQueryEngine.retrieve at 0x169b585e0>. The path of this call may be incorrect.\n",
      "Guessing path of new object is app based on other object (0x15c0ce050) using this function.\n",
      "A new object of type <class 'llama_index.response_synthesizers.compact_and_refine.CompactAndRefine'> at 0x15834d050 is calling an instrumented method <function Refine.get_response at 0x13eae8a40>. The path of this call may be incorrect.\n",
      "Guessing path of new object is app._response_synthesizer based on other object (0x15c3e9710) using this function.\n",
      "A new object of type <class 'llama_index.query_engine.retriever_query_engine.RetrieverQueryEngine'> at 0x15c1d8990 is calling an instrumented method <function RetrieverQueryEngine.retrieve at 0x169b585e0>. The path of this call may be incorrect.\n",
      "Guessing path of new object is app based on other object (0x15c0ce050) using this function.\n",
      "A new object of type <class 'llama_index.response_synthesizers.compact_and_refine.CompactAndRefine'> at 0x15834d050 is calling an instrumented method <function Refine.get_response at 0x13eae8a40>. The path of this call may be incorrect.\n",
      "Guessing path of new object is app._response_synthesizer based on other object (0x15c3e9710) using this function.\n",
      "A new object of type <class 'llama_index.query_engine.retriever_query_engine.RetrieverQueryEngine'> at 0x15c1d8990 is calling an instrumented method <function RetrieverQueryEngine.retrieve at 0x169b585e0>. The path of this call may be incorrect.\n",
      "Guessing path of new object is app based on other object (0x15c0ce050) using this function.\n",
      "A new object of type <class 'llama_index.response_synthesizers.compact_and_refine.CompactAndRefine'> at 0x15834d050 is calling an instrumented method <function Refine.get_response at 0x13eae8a40>. The path of this call may be incorrect.\n",
      "Guessing path of new object is app._response_synthesizer based on other object (0x15c3e9710) using this function.\n",
      "A new object of type <class 'llama_index.query_engine.retriever_query_engine.RetrieverQueryEngine'> at 0x15c1d8990 is calling an instrumented method <function RetrieverQueryEngine.retrieve at 0x169b585e0>. The path of this call may be incorrect.\n",
      "Guessing path of new object is app based on other object (0x15c0ce050) using this function.\n",
      "A new object of type <class 'llama_index.response_synthesizers.compact_and_refine.CompactAndRefine'> at 0x15834d050 is calling an instrumented method <function Refine.get_response at 0x13eae8a40>. The path of this call may be incorrect.\n",
      "Guessing path of new object is app._response_synthesizer based on other object (0x15c3e9710) using this function.\n",
      "A new object of type <class 'llama_index.query_engine.retriever_query_engine.RetrieverQueryEngine'> at 0x15c1d8990 is calling an instrumented method <function RetrieverQueryEngine.retrieve at 0x169b585e0>. The path of this call may be incorrect.\n",
      "Guessing path of new object is app based on other object (0x15c0ce050) using this function.\n",
      "A new object of type <class 'llama_index.response_synthesizers.compact_and_refine.CompactAndRefine'> at 0x15834d050 is calling an instrumented method <function Refine.get_response at 0x13eae8a40>. The path of this call may be incorrect.\n",
      "Guessing path of new object is app._response_synthesizer based on other object (0x15c3e9710) using this function.\n",
      "A new object of type <class 'llama_index.query_engine.retriever_query_engine.RetrieverQueryEngine'> at 0x15c1d8990 is calling an instrumented method <function RetrieverQueryEngine.retrieve at 0x169b585e0>. The path of this call may be incorrect.\n",
      "Guessing path of new object is app based on other object (0x15c0ce050) using this function.\n",
      "A new object of type <class 'llama_index.response_synthesizers.compact_and_refine.CompactAndRefine'> at 0x15834d050 is calling an instrumented method <function Refine.get_response at 0x13eae8a40>. The path of this call may be incorrect.\n",
      "Guessing path of new object is app._response_synthesizer based on other object (0x15c3e9710) using this function.\n",
      "A new object of type <class 'llama_index.query_engine.retriever_query_engine.RetrieverQueryEngine'> at 0x15c1d8990 is calling an instrumented method <function RetrieverQueryEngine.retrieve at 0x169b585e0>. The path of this call may be incorrect.\n",
      "Guessing path of new object is app based on other object (0x15c0ce050) using this function.\n",
      "A new object of type <class 'llama_index.response_synthesizers.compact_and_refine.CompactAndRefine'> at 0x15834d050 is calling an instrumented method <function Refine.get_response at 0x13eae8a40>. The path of this call may be incorrect.\n",
      "Guessing path of new object is app._response_synthesizer based on other object (0x15c3e9710) using this function.\n",
      "A new object of type <class 'llama_index.query_engine.retriever_query_engine.RetrieverQueryEngine'> at 0x15c1d8990 is calling an instrumented method <function RetrieverQueryEngine.retrieve at 0x169b585e0>. The path of this call may be incorrect.\n",
      "Guessing path of new object is app based on other object (0x15c0ce050) using this function.\n",
      "A new object of type <class 'llama_index.response_synthesizers.compact_and_refine.CompactAndRefine'> at 0x15834d050 is calling an instrumented method <function Refine.get_response at 0x13eae8a40>. The path of this call may be incorrect.\n",
      "Guessing path of new object is app._response_synthesizer based on other object (0x15c3e9710) using this function.\n",
      "A new object of type <class 'llama_index.query_engine.retriever_query_engine.RetrieverQueryEngine'> at 0x15c1d8990 is calling an instrumented method <function RetrieverQueryEngine.retrieve at 0x169b585e0>. The path of this call may be incorrect.\n",
      "Guessing path of new object is app based on other object (0x15c0ce050) using this function.\n",
      "A new object of type <class 'llama_index.response_synthesizers.compact_and_refine.CompactAndRefine'> at 0x15834d050 is calling an instrumented method <function Refine.get_response at 0x13eae8a40>. The path of this call may be incorrect.\n",
      "Guessing path of new object is app._response_synthesizer based on other object (0x15c3e9710) using this function.\n",
      "A new object of type <class 'llama_index.query_engine.retriever_query_engine.RetrieverQueryEngine'> at 0x15c1d8990 is calling an instrumented method <function RetrieverQueryEngine.retrieve at 0x169b585e0>. The path of this call may be incorrect.\n",
      "Guessing path of new object is app based on other object (0x15c0ce050) using this function.\n",
      "A new object of type <class 'llama_index.response_synthesizers.compact_and_refine.CompactAndRefine'> at 0x15834d050 is calling an instrumented method <function Refine.get_response at 0x13eae8a40>. The path of this call may be incorrect.\n",
      "Guessing path of new object is app._response_synthesizer based on other object (0x15c3e9710) using this function.\n"
     ]
    },
    {
     "name": "stderr",
     "output_type": "stream",
     "text": [
      "A new object of type <class 'llama_index.query_engine.retriever_query_engine.RetrieverQueryEngine'> at 0x15c1d8990 is calling an instrumented method <function RetrieverQueryEngine.retrieve at 0x169b585e0>. The path of this call may be incorrect.\n",
      "Guessing path of new object is app based on other object (0x15c0ce050) using this function.\n",
      "A new object of type <class 'llama_index.response_synthesizers.compact_and_refine.CompactAndRefine'> at 0x15834d050 is calling an instrumented method <function Refine.get_response at 0x13eae8a40>. The path of this call may be incorrect.\n",
      "Guessing path of new object is app._response_synthesizer based on other object (0x15c3e9710) using this function.\n",
      "A new object of type <class 'llama_index.query_engine.retriever_query_engine.RetrieverQueryEngine'> at 0x15c1d8990 is calling an instrumented method <function RetrieverQueryEngine.retrieve at 0x169b585e0>. The path of this call may be incorrect.\n",
      "Guessing path of new object is app based on other object (0x15c0ce050) using this function.\n",
      "A new object of type <class 'llama_index.response_synthesizers.compact_and_refine.CompactAndRefine'> at 0x15834d050 is calling an instrumented method <function Refine.get_response at 0x13eae8a40>. The path of this call may be incorrect.\n",
      "Guessing path of new object is app._response_synthesizer based on other object (0x15c3e9710) using this function.\n",
      "A new object of type <class 'llama_index.query_engine.retriever_query_engine.RetrieverQueryEngine'> at 0x15c1d8990 is calling an instrumented method <function RetrieverQueryEngine.retrieve at 0x169b585e0>. The path of this call may be incorrect.\n",
      "Guessing path of new object is app based on other object (0x15c0ce050) using this function.\n",
      "A new object of type <class 'llama_index.response_synthesizers.compact_and_refine.CompactAndRefine'> at 0x15834d050 is calling an instrumented method <function Refine.get_response at 0x13eae8a40>. The path of this call may be incorrect.\n",
      "Guessing path of new object is app._response_synthesizer based on other object (0x15c3e9710) using this function.\n",
      "A new object of type <class 'llama_index.query_engine.retriever_query_engine.RetrieverQueryEngine'> at 0x15c1d8990 is calling an instrumented method <function RetrieverQueryEngine.retrieve at 0x169b585e0>. The path of this call may be incorrect.\n",
      "Guessing path of new object is app based on other object (0x15c0ce050) using this function.\n",
      "A new object of type <class 'llama_index.response_synthesizers.compact_and_refine.CompactAndRefine'> at 0x15834d050 is calling an instrumented method <function Refine.get_response at 0x13eae8a40>. The path of this call may be incorrect.\n",
      "Guessing path of new object is app._response_synthesizer based on other object (0x15c3e9710) using this function.\n",
      "A new object of type <class 'llama_index.query_engine.retriever_query_engine.RetrieverQueryEngine'> at 0x15c1d8990 is calling an instrumented method <function RetrieverQueryEngine.retrieve at 0x169b585e0>. The path of this call may be incorrect.\n",
      "Guessing path of new object is app based on other object (0x15c0ce050) using this function.\n",
      "A new object of type <class 'llama_index.response_synthesizers.compact_and_refine.CompactAndRefine'> at 0x15834d050 is calling an instrumented method <function Refine.get_response at 0x13eae8a40>. The path of this call may be incorrect.\n",
      "Guessing path of new object is app._response_synthesizer based on other object (0x15c3e9710) using this function.\n",
      "A new object of type <class 'llama_index.query_engine.retriever_query_engine.RetrieverQueryEngine'> at 0x15c1d8990 is calling an instrumented method <function RetrieverQueryEngine.retrieve at 0x169b585e0>. The path of this call may be incorrect.\n",
      "Guessing path of new object is app based on other object (0x15c0ce050) using this function.\n",
      "A new object of type <class 'llama_index.response_synthesizers.compact_and_refine.CompactAndRefine'> at 0x15834d050 is calling an instrumented method <function Refine.get_response at 0x13eae8a40>. The path of this call may be incorrect.\n",
      "Guessing path of new object is app._response_synthesizer based on other object (0x15c3e9710) using this function.\n",
      "A new object of type <class 'llama_index.query_engine.retriever_query_engine.RetrieverQueryEngine'> at 0x15c1d8990 is calling an instrumented method <function RetrieverQueryEngine.retrieve at 0x169b585e0>. The path of this call may be incorrect.\n",
      "Guessing path of new object is app based on other object (0x15c0ce050) using this function.\n",
      "A new object of type <class 'llama_index.response_synthesizers.compact_and_refine.CompactAndRefine'> at 0x15834d050 is calling an instrumented method <function Refine.get_response at 0x13eae8a40>. The path of this call may be incorrect.\n",
      "Guessing path of new object is app._response_synthesizer based on other object (0x15c3e9710) using this function.\n",
      "A new object of type <class 'llama_index.query_engine.retriever_query_engine.RetrieverQueryEngine'> at 0x15c1d8990 is calling an instrumented method <function RetrieverQueryEngine.retrieve at 0x169b585e0>. The path of this call may be incorrect.\n",
      "Guessing path of new object is app based on other object (0x15c0ce050) using this function.\n",
      "A new object of type <class 'llama_index.response_synthesizers.compact_and_refine.CompactAndRefine'> at 0x15834d050 is calling an instrumented method <function Refine.get_response at 0x13eae8a40>. The path of this call may be incorrect.\n",
      "Guessing path of new object is app._response_synthesizer based on other object (0x15c3e9710) using this function.\n",
      "A new object of type <class 'llama_index.query_engine.retriever_query_engine.RetrieverQueryEngine'> at 0x15c1d8990 is calling an instrumented method <function RetrieverQueryEngine.retrieve at 0x169b585e0>. The path of this call may be incorrect.\n",
      "Guessing path of new object is app based on other object (0x15c0ce050) using this function.\n",
      "A new object of type <class 'llama_index.response_synthesizers.compact_and_refine.CompactAndRefine'> at 0x15834d050 is calling an instrumented method <function Refine.get_response at 0x13eae8a40>. The path of this call may be incorrect.\n",
      "Guessing path of new object is app._response_synthesizer based on other object (0x15c3e9710) using this function.\n",
      "A new object of type <class 'llama_index.query_engine.retriever_query_engine.RetrieverQueryEngine'> at 0x15c1d8990 is calling an instrumented method <function RetrieverQueryEngine.retrieve at 0x169b585e0>. The path of this call may be incorrect.\n",
      "Guessing path of new object is app based on other object (0x15c0ce050) using this function.\n",
      "A new object of type <class 'llama_index.response_synthesizers.compact_and_refine.CompactAndRefine'> at 0x15834d050 is calling an instrumented method <function Refine.get_response at 0x13eae8a40>. The path of this call may be incorrect.\n",
      "Guessing path of new object is app._response_synthesizer based on other object (0x15c3e9710) using this function.\n",
      "A new object of type <class 'llama_index.query_engine.retriever_query_engine.RetrieverQueryEngine'> at 0x15c1d8990 is calling an instrumented method <function RetrieverQueryEngine.retrieve at 0x169b585e0>. The path of this call may be incorrect.\n",
      "Guessing path of new object is app based on other object (0x15c0ce050) using this function.\n",
      "A new object of type <class 'llama_index.response_synthesizers.compact_and_refine.CompactAndRefine'> at 0x15834d050 is calling an instrumented method <function Refine.get_response at 0x13eae8a40>. The path of this call may be incorrect.\n",
      "Guessing path of new object is app._response_synthesizer based on other object (0x15c3e9710) using this function.\n",
      "A new object of type <class 'llama_index.query_engine.retriever_query_engine.RetrieverQueryEngine'> at 0x15c1d8990 is calling an instrumented method <function RetrieverQueryEngine.retrieve at 0x169b585e0>. The path of this call may be incorrect.\n",
      "Guessing path of new object is app based on other object (0x15c0ce050) using this function.\n",
      "A new object of type <class 'llama_index.response_synthesizers.compact_and_refine.CompactAndRefine'> at 0x15834d050 is calling an instrumented method <function Refine.get_response at 0x13eae8a40>. The path of this call may be incorrect.\n",
      "Guessing path of new object is app._response_synthesizer based on other object (0x15c3e9710) using this function.\n"
     ]
    },
    {
     "name": "stderr",
     "output_type": "stream",
     "text": [
      "A new object of type <class 'llama_index.query_engine.retriever_query_engine.RetrieverQueryEngine'> at 0x15c1d8990 is calling an instrumented method <function RetrieverQueryEngine.retrieve at 0x169b585e0>. The path of this call may be incorrect.\n",
      "Guessing path of new object is app based on other object (0x15c0ce050) using this function.\n",
      "A new object of type <class 'llama_index.response_synthesizers.compact_and_refine.CompactAndRefine'> at 0x15834d050 is calling an instrumented method <function Refine.get_response at 0x13eae8a40>. The path of this call may be incorrect.\n",
      "Guessing path of new object is app._response_synthesizer based on other object (0x15c3e9710) using this function.\n",
      "A new object of type <class 'llama_index.query_engine.retriever_query_engine.RetrieverQueryEngine'> at 0x15c1d8990 is calling an instrumented method <function RetrieverQueryEngine.retrieve at 0x169b585e0>. The path of this call may be incorrect.\n",
      "Guessing path of new object is app based on other object (0x15c0ce050) using this function.\n",
      "A new object of type <class 'llama_index.response_synthesizers.compact_and_refine.CompactAndRefine'> at 0x15834d050 is calling an instrumented method <function Refine.get_response at 0x13eae8a40>. The path of this call may be incorrect.\n",
      "Guessing path of new object is app._response_synthesizer based on other object (0x15c3e9710) using this function.\n",
      "A new object of type <class 'llama_index.query_engine.retriever_query_engine.RetrieverQueryEngine'> at 0x15c1d8990 is calling an instrumented method <function RetrieverQueryEngine.retrieve at 0x169b585e0>. The path of this call may be incorrect.\n",
      "Guessing path of new object is app based on other object (0x15c0ce050) using this function.\n",
      "A new object of type <class 'llama_index.response_synthesizers.compact_and_refine.CompactAndRefine'> at 0x15834d050 is calling an instrumented method <function Refine.get_response at 0x13eae8a40>. The path of this call may be incorrect.\n",
      "Guessing path of new object is app._response_synthesizer based on other object (0x15c3e9710) using this function.\n",
      "A new object of type <class 'llama_index.query_engine.retriever_query_engine.RetrieverQueryEngine'> at 0x15c1d8990 is calling an instrumented method <function RetrieverQueryEngine.retrieve at 0x169b585e0>. The path of this call may be incorrect.\n",
      "Guessing path of new object is app based on other object (0x15c0ce050) using this function.\n",
      "A new object of type <class 'llama_index.response_synthesizers.compact_and_refine.CompactAndRefine'> at 0x15834d050 is calling an instrumented method <function Refine.get_response at 0x13eae8a40>. The path of this call may be incorrect.\n",
      "Guessing path of new object is app._response_synthesizer based on other object (0x15c3e9710) using this function.\n",
      "A new object of type <class 'llama_index.query_engine.retriever_query_engine.RetrieverQueryEngine'> at 0x15c1d8990 is calling an instrumented method <function RetrieverQueryEngine.retrieve at 0x169b585e0>. The path of this call may be incorrect.\n",
      "Guessing path of new object is app based on other object (0x15c0ce050) using this function.\n",
      "A new object of type <class 'llama_index.response_synthesizers.compact_and_refine.CompactAndRefine'> at 0x15834d050 is calling an instrumented method <function Refine.get_response at 0x13eae8a40>. The path of this call may be incorrect.\n",
      "Guessing path of new object is app._response_synthesizer based on other object (0x15c3e9710) using this function.\n",
      "A new object of type <class 'llama_index.query_engine.retriever_query_engine.RetrieverQueryEngine'> at 0x15c1d8990 is calling an instrumented method <function RetrieverQueryEngine.retrieve at 0x169b585e0>. The path of this call may be incorrect.\n",
      "Guessing path of new object is app based on other object (0x15c0ce050) using this function.\n",
      "A new object of type <class 'llama_index.response_synthesizers.compact_and_refine.CompactAndRefine'> at 0x15834d050 is calling an instrumented method <function Refine.get_response at 0x13eae8a40>. The path of this call may be incorrect.\n",
      "Guessing path of new object is app._response_synthesizer based on other object (0x15c3e9710) using this function.\n",
      "A new object of type <class 'llama_index.query_engine.retriever_query_engine.RetrieverQueryEngine'> at 0x15c1d8990 is calling an instrumented method <function RetrieverQueryEngine.retrieve at 0x169b585e0>. The path of this call may be incorrect.\n",
      "Guessing path of new object is app based on other object (0x15c0ce050) using this function.\n",
      "A new object of type <class 'llama_index.response_synthesizers.compact_and_refine.CompactAndRefine'> at 0x15834d050 is calling an instrumented method <function Refine.get_response at 0x13eae8a40>. The path of this call may be incorrect.\n",
      "Guessing path of new object is app._response_synthesizer based on other object (0x15c3e9710) using this function.\n",
      "A new object of type <class 'llama_index.query_engine.retriever_query_engine.RetrieverQueryEngine'> at 0x15c1d8990 is calling an instrumented method <function RetrieverQueryEngine.retrieve at 0x169b585e0>. The path of this call may be incorrect.\n",
      "Guessing path of new object is app based on other object (0x15c0ce050) using this function.\n",
      "A new object of type <class 'llama_index.response_synthesizers.compact_and_refine.CompactAndRefine'> at 0x15834d050 is calling an instrumented method <function Refine.get_response at 0x13eae8a40>. The path of this call may be incorrect.\n",
      "Guessing path of new object is app._response_synthesizer based on other object (0x15c3e9710) using this function.\n",
      "A new object of type <class 'llama_index.query_engine.retriever_query_engine.RetrieverQueryEngine'> at 0x15c1d8990 is calling an instrumented method <function RetrieverQueryEngine.retrieve at 0x169b585e0>. The path of this call may be incorrect.\n",
      "Guessing path of new object is app based on other object (0x15c0ce050) using this function.\n",
      "A new object of type <class 'llama_index.response_synthesizers.compact_and_refine.CompactAndRefine'> at 0x15834d050 is calling an instrumented method <function Refine.get_response at 0x13eae8a40>. The path of this call may be incorrect.\n",
      "Guessing path of new object is app._response_synthesizer based on other object (0x15c3e9710) using this function.\n",
      "A new object of type <class 'llama_index.query_engine.retriever_query_engine.RetrieverQueryEngine'> at 0x15c1d8990 is calling an instrumented method <function RetrieverQueryEngine.retrieve at 0x169b585e0>. The path of this call may be incorrect.\n",
      "Guessing path of new object is app based on other object (0x15c0ce050) using this function.\n",
      "A new object of type <class 'llama_index.response_synthesizers.compact_and_refine.CompactAndRefine'> at 0x15834d050 is calling an instrumented method <function Refine.get_response at 0x13eae8a40>. The path of this call may be incorrect.\n",
      "Guessing path of new object is app._response_synthesizer based on other object (0x15c3e9710) using this function.\n",
      "A new object of type <class 'llama_index.query_engine.retriever_query_engine.RetrieverQueryEngine'> at 0x15c1d8990 is calling an instrumented method <function RetrieverQueryEngine.retrieve at 0x169b585e0>. The path of this call may be incorrect.\n",
      "Guessing path of new object is app based on other object (0x15c0ce050) using this function.\n",
      "A new object of type <class 'llama_index.response_synthesizers.compact_and_refine.CompactAndRefine'> at 0x15834d050 is calling an instrumented method <function Refine.get_response at 0x13eae8a40>. The path of this call may be incorrect.\n",
      "Guessing path of new object is app._response_synthesizer based on other object (0x15c3e9710) using this function.\n",
      "A new object of type <class 'llama_index.query_engine.retriever_query_engine.RetrieverQueryEngine'> at 0x15c1d8990 is calling an instrumented method <function RetrieverQueryEngine.retrieve at 0x169b585e0>. The path of this call may be incorrect.\n",
      "Guessing path of new object is app based on other object (0x15c0ce050) using this function.\n",
      "A new object of type <class 'llama_index.response_synthesizers.compact_and_refine.CompactAndRefine'> at 0x15834d050 is calling an instrumented method <function Refine.get_response at 0x13eae8a40>. The path of this call may be incorrect.\n",
      "Guessing path of new object is app._response_synthesizer based on other object (0x15c3e9710) using this function.\n"
     ]
    },
    {
     "name": "stderr",
     "output_type": "stream",
     "text": [
      "A new object of type <class 'llama_index.query_engine.retriever_query_engine.RetrieverQueryEngine'> at 0x15c1d8990 is calling an instrumented method <function RetrieverQueryEngine.retrieve at 0x169b585e0>. The path of this call may be incorrect.\n",
      "Guessing path of new object is app based on other object (0x15c0ce050) using this function.\n",
      "A new object of type <class 'llama_index.response_synthesizers.compact_and_refine.CompactAndRefine'> at 0x15834d050 is calling an instrumented method <function Refine.get_response at 0x13eae8a40>. The path of this call may be incorrect.\n",
      "Guessing path of new object is app._response_synthesizer based on other object (0x15c3e9710) using this function.\n",
      "A new object of type <class 'llama_index.query_engine.retriever_query_engine.RetrieverQueryEngine'> at 0x15c1d8990 is calling an instrumented method <function RetrieverQueryEngine.retrieve at 0x169b585e0>. The path of this call may be incorrect.\n",
      "Guessing path of new object is app based on other object (0x15c0ce050) using this function.\n",
      "A new object of type <class 'llama_index.response_synthesizers.compact_and_refine.CompactAndRefine'> at 0x15834d050 is calling an instrumented method <function Refine.get_response at 0x13eae8a40>. The path of this call may be incorrect.\n",
      "Guessing path of new object is app._response_synthesizer based on other object (0x15c3e9710) using this function.\n",
      "A new object of type <class 'llama_index.query_engine.retriever_query_engine.RetrieverQueryEngine'> at 0x15c1d8990 is calling an instrumented method <function RetrieverQueryEngine.retrieve at 0x169b585e0>. The path of this call may be incorrect.\n",
      "Guessing path of new object is app based on other object (0x15c0ce050) using this function.\n",
      "A new object of type <class 'llama_index.response_synthesizers.compact_and_refine.CompactAndRefine'> at 0x15834d050 is calling an instrumented method <function Refine.get_response at 0x13eae8a40>. The path of this call may be incorrect.\n",
      "Guessing path of new object is app._response_synthesizer based on other object (0x15c3e9710) using this function.\n",
      "A new object of type <class 'llama_index.query_engine.retriever_query_engine.RetrieverQueryEngine'> at 0x15c1d8990 is calling an instrumented method <function RetrieverQueryEngine.retrieve at 0x169b585e0>. The path of this call may be incorrect.\n",
      "Guessing path of new object is app based on other object (0x15c0ce050) using this function.\n",
      "A new object of type <class 'llama_index.response_synthesizers.compact_and_refine.CompactAndRefine'> at 0x15834d050 is calling an instrumented method <function Refine.get_response at 0x13eae8a40>. The path of this call may be incorrect.\n",
      "Guessing path of new object is app._response_synthesizer based on other object (0x15c3e9710) using this function.\n",
      "A new object of type <class 'llama_index.query_engine.retriever_query_engine.RetrieverQueryEngine'> at 0x15c1d8990 is calling an instrumented method <function RetrieverQueryEngine.retrieve at 0x169b585e0>. The path of this call may be incorrect.\n",
      "Guessing path of new object is app based on other object (0x15c0ce050) using this function.\n",
      "A new object of type <class 'llama_index.response_synthesizers.compact_and_refine.CompactAndRefine'> at 0x15834d050 is calling an instrumented method <function Refine.get_response at 0x13eae8a40>. The path of this call may be incorrect.\n",
      "Guessing path of new object is app._response_synthesizer based on other object (0x15c3e9710) using this function.\n",
      "A new object of type <class 'llama_index.query_engine.retriever_query_engine.RetrieverQueryEngine'> at 0x15c1d8990 is calling an instrumented method <function RetrieverQueryEngine.retrieve at 0x169b585e0>. The path of this call may be incorrect.\n",
      "Guessing path of new object is app based on other object (0x15c0ce050) using this function.\n",
      "A new object of type <class 'llama_index.response_synthesizers.compact_and_refine.CompactAndRefine'> at 0x15834d050 is calling an instrumented method <function Refine.get_response at 0x13eae8a40>. The path of this call may be incorrect.\n",
      "Guessing path of new object is app._response_synthesizer based on other object (0x15c3e9710) using this function.\n",
      "A new object of type <class 'llama_index.query_engine.retriever_query_engine.RetrieverQueryEngine'> at 0x15c1d8990 is calling an instrumented method <function RetrieverQueryEngine.retrieve at 0x169b585e0>. The path of this call may be incorrect.\n",
      "Guessing path of new object is app based on other object (0x15c0ce050) using this function.\n",
      "A new object of type <class 'llama_index.response_synthesizers.compact_and_refine.CompactAndRefine'> at 0x15834d050 is calling an instrumented method <function Refine.get_response at 0x13eae8a40>. The path of this call may be incorrect.\n",
      "Guessing path of new object is app._response_synthesizer based on other object (0x15c3e9710) using this function.\n"
     ]
    }
   ],
   "source": [
    "with tru_recorder as recording:\n",
    "    for question in eval_questions:\n",
    "        response = query_engine.query(question)\n",
    "\n",
    "records, feedback = tru.get_records_and_feedback(app_ids=[])\n",
    "average_answer_relevance, average_context_relevance, average_groundedness = get_results(\n",
    "    records[\"Answer Relevance\"], records[\"Context Relevance\"], records[\"Groundedness\"]\n",
    ")"
   ]
  },
  {
   "cell_type": "code",
   "execution_count": 11,
   "id": "aa625ae0",
   "metadata": {},
   "outputs": [],
   "source": [
    "records.to_csv(\"CusText_Presidio_Eval.csv\")"
   ]
  },
  {
   "cell_type": "code",
   "execution_count": 12,
   "id": "0ab99a72",
   "metadata": {},
   "outputs": [
    {
     "name": "stdout",
     "output_type": "stream",
     "text": [
      "Average Answer Relevance: 0.9569620253164556\n",
      "Average Context Relevance: 0.2858974358974359\n",
      "Average Groundedness: 0.621769568151147\n"
     ]
    }
   ],
   "source": [
    "# Print the averages\n",
    "print(\"Average Answer Relevance:\", average_answer_relevance)\n",
    "print(\"Average Context Relevance:\", average_context_relevance)\n",
    "print(\"Average Groundedness:\", average_groundedness)"
   ]
  },
  {
   "cell_type": "code",
   "execution_count": null,
   "id": "9e648792",
   "metadata": {},
   "outputs": [],
   "source": []
  }
 ],
 "metadata": {
  "kernelspec": {
   "display_name": "Python 3 (ipykernel)",
   "language": "python",
   "name": "python3"
  },
  "language_info": {
   "codemirror_mode": {
    "name": "ipython",
    "version": 3
   },
   "file_extension": ".py",
   "mimetype": "text/x-python",
   "name": "python",
   "nbconvert_exporter": "python",
   "pygments_lexer": "ipython3",
   "version": "3.11.5"
  }
 },
 "nbformat": 4,
 "nbformat_minor": 5
}
